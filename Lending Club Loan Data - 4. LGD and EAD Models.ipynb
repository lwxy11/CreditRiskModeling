{
 "cells": [
  {
   "cell_type": "markdown",
   "id": "8046f1d9",
   "metadata": {},
   "source": [
    "# Import Libraries"
   ]
  },
  {
   "cell_type": "code",
   "execution_count": 1,
   "id": "11d9c52c",
   "metadata": {},
   "outputs": [],
   "source": [
    "import numpy as np\n",
    "import pandas as pd"
   ]
  },
  {
   "cell_type": "markdown",
   "id": "9700bccd",
   "metadata": {},
   "source": [
    "# Import Preprocessed Data"
   ]
  },
  {
   "cell_type": "code",
   "execution_count": 2,
   "id": "fb6399b4",
   "metadata": {},
   "outputs": [
    {
     "name": "stderr",
     "output_type": "stream",
     "text": [
      "C:\\Users\\温泉小鱼汤\\AppData\\Local\\Temp\\ipykernel_10616\\1604220324.py:1: DtypeWarning: Columns (20,48,56,113,124,125,126,129,130,131,134,140,141,142) have mixed types. Specify dtype option on import or set low_memory=False.\n",
      "  loan_data_preprocessed_backup = pd.read_csv(r'C:\\Users\\温泉小鱼汤\\Documents\\BaiduNetdiskWorkspace\\USC\\Credit Risk Modeling\\loan_data_preprocessed.csv')\n"
     ]
    }
   ],
   "source": [
    "loan_data_preprocessed_backup = pd.read_csv(r'C:\\Users\\温泉小鱼汤\\Documents\\BaiduNetdiskWorkspace\\USC\\Credit Risk Modeling\\loan_data_preprocessed.csv')"
   ]
  },
  {
   "cell_type": "markdown",
   "id": "37bcf3ec",
   "metadata": {},
   "source": [
    "# Explore Data"
   ]
  },
  {
   "cell_type": "code",
   "execution_count": 3,
   "id": "57bd7eed",
   "metadata": {},
   "outputs": [],
   "source": [
    "loan_data_preprocessed = loan_data_preprocessed_backup.copy()"
   ]
  },
  {
   "cell_type": "markdown",
   "id": "4eeecb92",
   "metadata": {},
   "source": [
    "To build models for LGD and EAD, we only consider loans that are written off (ie. borrowers had enough time to repay part of their remaining debt)."
   ]
  },
  {
   "cell_type": "code",
   "execution_count": 4,
   "id": "c21e62c7",
   "metadata": {},
   "outputs": [],
   "source": [
    "loan_data_defaults = loan_data_preprocessed[loan_data_preprocessed['loan_status'].isin(['Charged Off',\n",
    "                                            'Does not meet the credit policy. Status:Charged Off'])]"
   ]
  },
  {
   "cell_type": "code",
   "execution_count": 5,
   "id": "92171bba",
   "metadata": {},
   "outputs": [
    {
     "data": {
      "text/plain": [
       "(262416, 279)"
      ]
     },
     "execution_count": 5,
     "metadata": {},
     "output_type": "execute_result"
    }
   ],
   "source": [
    "loan_data_defaults.shape"
   ]
  },
  {
   "cell_type": "code",
   "execution_count": 6,
   "id": "4a5a904a",
   "metadata": {},
   "outputs": [],
   "source": [
    "pd.options.display.max_rows = None"
   ]
  },
  {
   "cell_type": "code",
   "execution_count": 7,
   "id": "b58980c7",
   "metadata": {},
   "outputs": [
    {
     "data": {
      "text/plain": [
       "Unnamed: 0                                                              0\n",
       "id                                                                 262416\n",
       "member_id                                                          262416\n",
       "loan_amnt                                                               0\n",
       "funded_amnt                                                             0\n",
       "funded_amnt_inv                                                         0\n",
       "term                                                                    0\n",
       "int_rate                                                                0\n",
       "installment                                                             0\n",
       "grade                                                                   0\n",
       "sub_grade                                                               0\n",
       "emp_title                                                           21743\n",
       "emp_length                                                          20409\n",
       "home_ownership                                                          0\n",
       "annual_inc                                                              0\n",
       "verification_status                                                     0\n",
       "issue_d                                                                 0\n",
       "loan_status                                                             0\n",
       "pymnt_plan                                                              0\n",
       "url                                                                262416\n",
       "desc                                                               242811\n",
       "purpose                                                                 0\n",
       "title                                                                4730\n",
       "zip_code                                                                0\n",
       "addr_state                                                              0\n",
       "dti                                                                    62\n",
       "delinq_2yrs                                                             0\n",
       "earliest_cr_line                                                        3\n",
       "inq_last_6mths                                                          0\n",
       "mths_since_last_delinq                                             127659\n",
       "mths_since_last_record                                             211458\n",
       "open_acc                                                                0\n",
       "pub_rec                                                                 0\n",
       "revol_bal                                                               0\n",
       "revol_util                                                            174\n",
       "total_acc                                                               0\n",
       "initial_list_status                                                     0\n",
       "out_prncp                                                               0\n",
       "out_prncp_inv                                                           0\n",
       "total_pymnt                                                             0\n",
       "total_pymnt_inv                                                         0\n",
       "total_rec_prncp                                                         0\n",
       "total_rec_int                                                           0\n",
       "total_rec_late_fee                                                      0\n",
       "recoveries                                                              0\n",
       "collection_recovery_fee                                                 0\n",
       "last_pymnt_d                                                         2272\n",
       "last_pymnt_amnt                                                         0\n",
       "next_pymnt_d                                                       261655\n",
       "last_credit_pull_d                                                      9\n",
       "collections_12_mths_ex_med                                             28\n",
       "mths_since_last_major_derog                                        186917\n",
       "policy_code                                                             0\n",
       "application_type                                                        0\n",
       "annual_inc_joint                                                   256687\n",
       "dti_joint                                                          256687\n",
       "verification_status_joint                                          256706\n",
       "acc_now_delinq                                                          0\n",
       "tot_coll_amt                                                        11079\n",
       "tot_cur_bal                                                         11079\n",
       "open_acc_6m                                                        148634\n",
       "open_act_il                                                        148634\n",
       "open_il_12m                                                        148634\n",
       "open_il_24m                                                        148634\n",
       "mths_since_rcnt_il                                                 152179\n",
       "total_bal_il                                                       148634\n",
       "il_util                                                            162877\n",
       "open_rv_12m                                                        148634\n",
       "open_rv_24m                                                        148634\n",
       "max_bal_bc                                                         148634\n",
       "all_util                                                           148642\n",
       "total_rev_hi_lim                                                        0\n",
       "inq_fi                                                             148634\n",
       "total_cu_tl                                                        148634\n",
       "inq_last_12m                                                       148634\n",
       "acc_open_past_24mths                                                 7647\n",
       "avg_cur_bal                                                         11085\n",
       "bc_open_to_buy                                                      10499\n",
       "bc_util                                                             10662\n",
       "chargeoff_within_12_mths                                               28\n",
       "delinq_amnt                                                             3\n",
       "mo_sin_old_il_acct                                                  19043\n",
       "mo_sin_old_rev_tl_op                                                11080\n",
       "mo_sin_rcnt_rev_tl_op                                               11080\n",
       "mo_sin_rcnt_tl                                                      11079\n",
       "mort_acc                                                             7647\n",
       "mths_since_recent_bc                                                10302\n",
       "mths_since_recent_bc_dlq                                           197174\n",
       "mths_since_recent_inq                                               26096\n",
       "mths_since_recent_revol_delinq                                     171740\n",
       "num_accts_ever_120_pd                                               11079\n",
       "num_actv_bc_tl                                                      11079\n",
       "num_actv_rev_tl                                                     11079\n",
       "num_bc_sats                                                          9025\n",
       "num_bc_tl                                                           11079\n",
       "num_il_tl                                                           11079\n",
       "num_op_rev_tl                                                       11079\n",
       "num_rev_accts                                                       11079\n",
       "num_rev_tl_bal_gt_0                                                 11079\n",
       "num_sats                                                             9025\n",
       "num_tl_120dpd_2m                                                    24203\n",
       "num_tl_30dpd                                                        11079\n",
       "num_tl_90g_dpd_24m                                                  11079\n",
       "num_tl_op_past_12m                                                  11079\n",
       "pct_tl_nvr_dlq                                                      11101\n",
       "percent_bc_gt_75                                                    10575\n",
       "pub_rec_bankruptcies                                                  334\n",
       "tax_liens                                                              11\n",
       "tot_hi_cred_lim                                                     11079\n",
       "total_bal_ex_mort                                                    7647\n",
       "total_bc_limit                                                       7647\n",
       "total_il_high_credit_limit                                          11079\n",
       "revol_bal_joint                                                    258364\n",
       "sec_app_earliest_cr_line                                           258364\n",
       "sec_app_inq_last_6mths                                             258364\n",
       "sec_app_mort_acc                                                   258364\n",
       "sec_app_open_acc                                                   258364\n",
       "sec_app_revol_util                                                 258493\n",
       "sec_app_open_act_il                                                258364\n",
       "sec_app_num_rev_accts                                              258364\n",
       "sec_app_chargeoff_within_12_mths                                   258364\n",
       "sec_app_collections_12_mths_ex_med                                 258364\n",
       "sec_app_mths_since_last_major_derog                                260639\n",
       "hardship_flag                                                           0\n",
       "hardship_type                                                      258599\n",
       "hardship_reason                                                    258599\n",
       "hardship_status                                                    258599\n",
       "deferral_term                                                      258599\n",
       "hardship_amount                                                    258599\n",
       "hardship_start_date                                                258599\n",
       "hardship_end_date                                                  258599\n",
       "payment_plan_start_date                                            258599\n",
       "hardship_length                                                    258599\n",
       "hardship_dpd                                                       258599\n",
       "hardship_loan_status                                               258599\n",
       "orig_projected_additional_accrued_interest                         260412\n",
       "hardship_payoff_balance_amount                                     258599\n",
       "hardship_last_payment_amount                                       258599\n",
       "disbursement_method                                                     0\n",
       "debt_settlement_flag                                                    0\n",
       "debt_settlement_flag_date                                          230421\n",
       "settlement_status                                                  230421\n",
       "settlement_date                                                    230421\n",
       "settlement_amount                                                  230421\n",
       "settlement_percentage                                              230421\n",
       "settlement_term                                                    230421\n",
       "emp_length_int                                                          0\n",
       "term_int                                                                0\n",
       "earliest_cr_line_date                                                   3\n",
       "issue_date                                                              0\n",
       "mths_since_earliest_cr_line                                             0\n",
       "mths_since_issue_d                                                      0\n",
       "grade:A                                                                 0\n",
       "grade:B                                                                 0\n",
       "grade:C                                                                 0\n",
       "grade:D                                                                 0\n",
       "grade:E                                                                 0\n",
       "grade:F                                                                 0\n",
       "grade:G                                                                 0\n",
       "sub_grade:A1                                                            0\n",
       "sub_grade:A2                                                            0\n",
       "sub_grade:A3                                                            0\n",
       "sub_grade:A4                                                            0\n",
       "sub_grade:A5                                                            0\n",
       "sub_grade:B1                                                            0\n",
       "sub_grade:B2                                                            0\n",
       "sub_grade:B3                                                            0\n",
       "sub_grade:B4                                                            0\n",
       "sub_grade:B5                                                            0\n",
       "sub_grade:C1                                                            0\n",
       "sub_grade:C2                                                            0\n",
       "sub_grade:C3                                                            0\n",
       "sub_grade:C4                                                            0\n",
       "sub_grade:C5                                                            0\n",
       "sub_grade:D1                                                            0\n",
       "sub_grade:D2                                                            0\n",
       "sub_grade:D3                                                            0\n",
       "sub_grade:D4                                                            0\n",
       "sub_grade:D5                                                            0\n",
       "sub_grade:E1                                                            0\n",
       "sub_grade:E2                                                            0\n",
       "sub_grade:E3                                                            0\n",
       "sub_grade:E4                                                            0\n",
       "sub_grade:E5                                                            0\n",
       "sub_grade:F1                                                            0\n",
       "sub_grade:F2                                                            0\n",
       "sub_grade:F3                                                            0\n",
       "sub_grade:F4                                                            0\n",
       "sub_grade:F5                                                            0\n",
       "sub_grade:G1                                                            0\n",
       "sub_grade:G2                                                            0\n",
       "sub_grade:G3                                                            0\n",
       "sub_grade:G4                                                            0\n",
       "sub_grade:G5                                                            0\n",
       "home_ownership:ANY                                                      0\n",
       "home_ownership:MORTGAGE                                                 0\n",
       "home_ownership:NONE                                                     0\n",
       "home_ownership:OTHER                                                    0\n",
       "home_ownership:OWN                                                      0\n",
       "home_ownership:RENT                                                     0\n",
       "verification_status:Not Verified                                        0\n",
       "verification_status:Source Verified                                     0\n",
       "verification_status:Verified                                            0\n",
       "loan_status:Charged Off                                                 0\n",
       "loan_status:Current                                                     0\n",
       "loan_status:Default                                                     0\n",
       "loan_status:Does not meet the credit policy. Status:Charged Off         0\n",
       "loan_status:Does not meet the credit policy. Status:Fully Paid          0\n",
       "loan_status:Fully Paid                                                  0\n",
       "loan_status:In Grace Period                                             0\n",
       "loan_status:Late (16-30 days)                                           0\n",
       "loan_status:Late (31-120 days)                                          0\n",
       "purpose:car                                                             0\n",
       "purpose:credit_card                                                     0\n",
       "purpose:debt_consolidation                                              0\n",
       "purpose:educational                                                     0\n",
       "purpose:home_improvement                                                0\n",
       "purpose:house                                                           0\n",
       "purpose:major_purchase                                                  0\n",
       "purpose:medical                                                         0\n",
       "purpose:moving                                                          0\n",
       "purpose:other                                                           0\n",
       "purpose:renewable_energy                                                0\n",
       "purpose:small_business                                                  0\n",
       "purpose:vacation                                                        0\n",
       "purpose:wedding                                                         0\n",
       "addr_state:AK                                                           0\n",
       "addr_state:AL                                                           0\n",
       "addr_state:AR                                                           0\n",
       "addr_state:AZ                                                           0\n",
       "addr_state:CA                                                           0\n",
       "addr_state:CO                                                           0\n",
       "addr_state:CT                                                           0\n",
       "addr_state:DC                                                           0\n",
       "addr_state:DE                                                           0\n",
       "addr_state:FL                                                           0\n",
       "addr_state:GA                                                           0\n",
       "addr_state:HI                                                           0\n",
       "addr_state:IA                                                           0\n",
       "addr_state:ID                                                           0\n",
       "addr_state:IL                                                           0\n",
       "addr_state:IN                                                           0\n",
       "addr_state:KS                                                           0\n",
       "addr_state:KY                                                           0\n",
       "addr_state:LA                                                           0\n",
       "addr_state:MA                                                           0\n",
       "addr_state:MD                                                           0\n",
       "addr_state:ME                                                           0\n",
       "addr_state:MI                                                           0\n",
       "addr_state:MN                                                           0\n",
       "addr_state:MO                                                           0\n",
       "addr_state:MS                                                           0\n",
       "addr_state:MT                                                           0\n",
       "addr_state:NC                                                           0\n",
       "addr_state:ND                                                           0\n",
       "addr_state:NE                                                           0\n",
       "addr_state:NH                                                           0\n",
       "addr_state:NJ                                                           0\n",
       "addr_state:NM                                                           0\n",
       "addr_state:NV                                                           0\n",
       "addr_state:NY                                                           0\n",
       "addr_state:OH                                                           0\n",
       "addr_state:OK                                                           0\n",
       "addr_state:OR                                                           0\n",
       "addr_state:PA                                                           0\n",
       "addr_state:RI                                                           0\n",
       "addr_state:SC                                                           0\n",
       "addr_state:SD                                                           0\n",
       "addr_state:TN                                                           0\n",
       "addr_state:TX                                                           0\n",
       "addr_state:UT                                                           0\n",
       "addr_state:VA                                                           0\n",
       "addr_state:VT                                                           0\n",
       "addr_state:WA                                                           0\n",
       "addr_state:WI                                                           0\n",
       "addr_state:WV                                                           0\n",
       "addr_state:WY                                                           0\n",
       "initial_list_status:f                                                   0\n",
       "initial_list_status:w                                                   0\n",
       "dtype: int64"
      ]
     },
     "execution_count": 7,
     "metadata": {},
     "output_type": "execute_result"
    }
   ],
   "source": [
    "loan_data_defaults.isnull().sum()"
   ]
  },
  {
   "cell_type": "code",
   "execution_count": 8,
   "id": "6e3ffa5b",
   "metadata": {},
   "outputs": [],
   "source": [
    "pd.options.display.max_rows = 100"
   ]
  },
  {
   "cell_type": "markdown",
   "id": "0b031d42",
   "metadata": {},
   "source": [
    "# Notes on Model Differences"
   ]
  },
  {
   "cell_type": "markdown",
   "id": "1aee3c07",
   "metadata": {},
   "source": [
    "Unlike the PD model, LGD and EAD models are not required to be easy to comprehend since only risk modelers use them. \n",
    "\n",
    "Hence, the independent variables need not to be solely dummies. \n",
    "\n",
    "We won't care about the WoE or any other criteria to group the categories. For continuous variables we can transform them.\n",
    "\n",
    "Either way, there is no need for fine classing or coarse classing."
   ]
  },
  {
   "cell_type": "markdown",
   "id": "43d48a85",
   "metadata": {},
   "source": [
    "# Independent Variables"
   ]
  },
  {
   "cell_type": "markdown",
   "id": "0cbf5d44",
   "metadata": {},
   "source": [
    "## Impute missing values"
   ]
  },
  {
   "cell_type": "markdown",
   "id": "2587959e",
   "metadata": {},
   "source": [
    "In the PD model we created Missing categories for missing values. Here we impute them with 0."
   ]
  },
  {
   "cell_type": "code",
   "execution_count": 9,
   "id": "e4eabeee",
   "metadata": {},
   "outputs": [
    {
     "name": "stderr",
     "output_type": "stream",
     "text": [
      "C:\\Users\\温泉小鱼汤\\AppData\\Local\\Temp\\ipykernel_10616\\188862553.py:1: SettingWithCopyWarning: \n",
      "A value is trying to be set on a copy of a slice from a DataFrame\n",
      "\n",
      "See the caveats in the documentation: https://pandas.pydata.org/pandas-docs/stable/user_guide/indexing.html#returning-a-view-versus-a-copy\n",
      "  loan_data_defaults['mths_since_last_delinq'].fillna(0, inplace = True)\n"
     ]
    }
   ],
   "source": [
    "loan_data_defaults['mths_since_last_delinq'].fillna(0, inplace = True)"
   ]
  },
  {
   "cell_type": "code",
   "execution_count": 10,
   "id": "98918005",
   "metadata": {},
   "outputs": [
    {
     "name": "stderr",
     "output_type": "stream",
     "text": [
      "C:\\Users\\温泉小鱼汤\\AppData\\Local\\Temp\\ipykernel_10616\\19061281.py:1: SettingWithCopyWarning: \n",
      "A value is trying to be set on a copy of a slice from a DataFrame\n",
      "\n",
      "See the caveats in the documentation: https://pandas.pydata.org/pandas-docs/stable/user_guide/indexing.html#returning-a-view-versus-a-copy\n",
      "  loan_data_defaults['mths_since_last_record'].fillna(0, inplace = True)\n"
     ]
    }
   ],
   "source": [
    "loan_data_defaults['mths_since_last_record'].fillna(0, inplace = True)"
   ]
  },
  {
   "cell_type": "markdown",
   "id": "fe050338",
   "metadata": {},
   "source": [
    "## Create dummy variables"
   ]
  },
  {
   "cell_type": "code",
   "execution_count": 11,
   "id": "f2050712",
   "metadata": {},
   "outputs": [
    {
     "name": "stderr",
     "output_type": "stream",
     "text": [
      "C:\\Users\\温泉小鱼汤\\AppData\\Local\\Temp\\ipykernel_10616\\4147408827.py:1: SettingWithCopyWarning: \n",
      "A value is trying to be set on a copy of a slice from a DataFrame.\n",
      "Try using .loc[row_indexer,col_indexer] = value instead\n",
      "\n",
      "See the caveats in the documentation: https://pandas.pydata.org/pandas-docs/stable/user_guide/indexing.html#returning-a-view-versus-a-copy\n",
      "  loan_data_defaults['home_ownership:RENT_OTHER_NONE_ANY'] = sum([loan_data_defaults['home_ownership:RENT'],\n"
     ]
    }
   ],
   "source": [
    "loan_data_defaults['home_ownership:RENT_OTHER_NONE_ANY'] = sum([loan_data_defaults['home_ownership:RENT'],\n",
    "                                                    loan_data_defaults['home_ownership:OTHER'],\n",
    "                                                    loan_data_defaults['home_ownership:NONE'],\n",
    "                                                    loan_data_defaults['home_ownership:ANY']])"
   ]
  },
  {
   "cell_type": "markdown",
   "id": "e627c963",
   "metadata": {},
   "source": [
    "# Dependent Variables"
   ]
  },
  {
   "cell_type": "markdown",
   "id": "fa6aac62",
   "metadata": {},
   "source": [
    "## LGD Model: Recovery Rate"
   ]
  },
  {
   "cell_type": "code",
   "execution_count": 12,
   "id": "44f24dc2",
   "metadata": {},
   "outputs": [
    {
     "name": "stderr",
     "output_type": "stream",
     "text": [
      "C:\\Users\\温泉小鱼汤\\AppData\\Local\\Temp\\ipykernel_10616\\2670870593.py:1: SettingWithCopyWarning: \n",
      "A value is trying to be set on a copy of a slice from a DataFrame.\n",
      "Try using .loc[row_indexer,col_indexer] = value instead\n",
      "\n",
      "See the caveats in the documentation: https://pandas.pydata.org/pandas-docs/stable/user_guide/indexing.html#returning-a-view-versus-a-copy\n",
      "  loan_data_defaults['recovery_rate'] = loan_data_defaults['recoveries'] / loan_data_defaults['funded_amnt']\n"
     ]
    }
   ],
   "source": [
    "loan_data_defaults['recovery_rate'] = loan_data_defaults['recoveries'] / loan_data_defaults['funded_amnt']"
   ]
  },
  {
   "cell_type": "code",
   "execution_count": 13,
   "id": "3c25f80e",
   "metadata": {},
   "outputs": [
    {
     "data": {
      "text/plain": [
       "count    262416.000000\n",
       "mean          0.073270\n",
       "std           0.094347\n",
       "min           0.000000\n",
       "25%           0.000000\n",
       "50%           0.058417\n",
       "75%           0.110310\n",
       "max           2.170300\n",
       "Name: recovery_rate, dtype: float64"
      ]
     },
     "execution_count": 13,
     "metadata": {},
     "output_type": "execute_result"
    }
   ],
   "source": [
    "loan_data_defaults['recovery_rate'].describe()"
   ]
  },
  {
   "cell_type": "markdown",
   "id": "f308f6fd",
   "metadata": {},
   "source": [
    "Cap the recovery rate at 0 to 1"
   ]
  },
  {
   "cell_type": "code",
   "execution_count": 14,
   "id": "ccb13636",
   "metadata": {},
   "outputs": [
    {
     "name": "stderr",
     "output_type": "stream",
     "text": [
      "C:\\Users\\温泉小鱼汤\\AppData\\Local\\Temp\\ipykernel_10616\\4184835573.py:1: SettingWithCopyWarning: \n",
      "A value is trying to be set on a copy of a slice from a DataFrame.\n",
      "Try using .loc[row_indexer,col_indexer] = value instead\n",
      "\n",
      "See the caveats in the documentation: https://pandas.pydata.org/pandas-docs/stable/user_guide/indexing.html#returning-a-view-versus-a-copy\n",
      "  loan_data_defaults['recovery_rate'] = np.where(loan_data_defaults['recovery_rate'] > 1, 1, loan_data_defaults['recovery_rate'])\n",
      "C:\\Users\\温泉小鱼汤\\AppData\\Local\\Temp\\ipykernel_10616\\4184835573.py:2: SettingWithCopyWarning: \n",
      "A value is trying to be set on a copy of a slice from a DataFrame.\n",
      "Try using .loc[row_indexer,col_indexer] = value instead\n",
      "\n",
      "See the caveats in the documentation: https://pandas.pydata.org/pandas-docs/stable/user_guide/indexing.html#returning-a-view-versus-a-copy\n",
      "  loan_data_defaults['recovery_rate'] = np.where(loan_data_defaults['recovery_rate'] <0 , 0, loan_data_defaults['recovery_rate'])\n"
     ]
    }
   ],
   "source": [
    "loan_data_defaults['recovery_rate'] = np.where(loan_data_defaults['recovery_rate'] > 1, 1, loan_data_defaults['recovery_rate'])\n",
    "loan_data_defaults['recovery_rate'] = np.where(loan_data_defaults['recovery_rate'] <0 , 0, loan_data_defaults['recovery_rate'])"
   ]
  },
  {
   "cell_type": "code",
   "execution_count": 15,
   "id": "154cb1b1",
   "metadata": {},
   "outputs": [
    {
     "data": {
      "text/plain": [
       "count    262416.000000\n",
       "mean          0.073240\n",
       "std           0.094011\n",
       "min           0.000000\n",
       "25%           0.000000\n",
       "50%           0.058417\n",
       "75%           0.110310\n",
       "max           1.000000\n",
       "Name: recovery_rate, dtype: float64"
      ]
     },
     "execution_count": 15,
     "metadata": {},
     "output_type": "execute_result"
    }
   ],
   "source": [
    "loan_data_defaults['recovery_rate'].describe()"
   ]
  },
  {
   "cell_type": "markdown",
   "id": "0a0a990c",
   "metadata": {},
   "source": [
    "## EAD Model: Credit Conversion Factor"
   ]
  },
  {
   "cell_type": "markdown",
   "id": "267aec2d",
   "metadata": {},
   "source": [
    "For revolving facilities such as credit cards and some consumer loans, the borrower may be able to repay and spend what they had already repaid again up to a certain credit limit. So the borrower may only have defaulted on a proportion of the original funded amount.\n",
    "\n",
    "Credit Conversion Factor (CCF) = (funded amount - total recovered principal) / funded amount\n",
    "\n",
    "EAD = total funded amount * CCF"
   ]
  },
  {
   "cell_type": "code",
   "execution_count": 16,
   "id": "1b69375f",
   "metadata": {},
   "outputs": [
    {
     "name": "stderr",
     "output_type": "stream",
     "text": [
      "C:\\Users\\温泉小鱼汤\\AppData\\Local\\Temp\\ipykernel_10616\\771210916.py:1: SettingWithCopyWarning: \n",
      "A value is trying to be set on a copy of a slice from a DataFrame.\n",
      "Try using .loc[row_indexer,col_indexer] = value instead\n",
      "\n",
      "See the caveats in the documentation: https://pandas.pydata.org/pandas-docs/stable/user_guide/indexing.html#returning-a-view-versus-a-copy\n",
      "  loan_data_defaults['CCF'] = (loan_data_defaults['funded_amnt'] - loan_data_defaults['total_rec_prncp'])/loan_data_defaults['funded_amnt']\n"
     ]
    }
   ],
   "source": [
    "loan_data_defaults['CCF'] = (loan_data_defaults['funded_amnt'] - loan_data_defaults['total_rec_prncp'])/loan_data_defaults['funded_amnt']"
   ]
  },
  {
   "cell_type": "code",
   "execution_count": 17,
   "id": "f1a569bb",
   "metadata": {},
   "outputs": [
    {
     "data": {
      "text/plain": [
       "count    262416.000000\n",
       "mean          0.698281\n",
       "std           0.218080\n",
       "min           0.000000\n",
       "25%           0.568441\n",
       "50%           0.748344\n",
       "75%           0.872427\n",
       "max           1.000000\n",
       "Name: CCF, dtype: float64"
      ]
     },
     "execution_count": 17,
     "metadata": {},
     "output_type": "execute_result"
    }
   ],
   "source": [
    "loan_data_defaults['CCF'].describe()"
   ]
  },
  {
   "cell_type": "markdown",
   "id": "aa3cea0d",
   "metadata": {},
   "source": [
    "# Explore Dependent Variables"
   ]
  },
  {
   "cell_type": "code",
   "execution_count": 18,
   "id": "9ad350d2",
   "metadata": {},
   "outputs": [],
   "source": [
    "import matplotlib.pyplot as plt\n",
    "import seaborn as sns\n",
    "sns.set()"
   ]
  },
  {
   "cell_type": "code",
   "execution_count": 19,
   "id": "8734b8af",
   "metadata": {},
   "outputs": [
    {
     "data": {
      "text/plain": [
       "(array([1.01886e+05, 1.28460e+04, 1.79490e+04, 2.22350e+04, 2.97860e+04,\n",
       "        2.26870e+04, 2.22990e+04, 8.22500e+03, 5.51000e+03, 3.49800e+03,\n",
       "        2.70100e+03, 1.38800e+03, 1.06700e+03, 9.62000e+02, 9.23000e+02,\n",
       "        1.00300e+03, 9.36000e+02, 9.40000e+02, 8.03000e+02, 7.66000e+02,\n",
       "        7.16000e+02, 5.67000e+02, 4.68000e+02, 3.53000e+02, 2.67000e+02,\n",
       "        2.31000e+02, 1.76000e+02, 1.30000e+02, 1.00000e+02, 8.80000e+01,\n",
       "        8.80000e+01, 8.20000e+01, 5.70000e+01, 5.20000e+01, 4.60000e+01,\n",
       "        3.30000e+01, 3.70000e+01, 4.20000e+01, 4.50000e+01, 4.00000e+01,\n",
       "        2.50000e+01, 2.90000e+01, 3.40000e+01, 2.90000e+01, 2.90000e+01,\n",
       "        1.90000e+01, 3.60000e+01, 3.10000e+01, 3.10000e+01, 1.25000e+02]),\n",
       " array([0.  , 0.02, 0.04, 0.06, 0.08, 0.1 , 0.12, 0.14, 0.16, 0.18, 0.2 ,\n",
       "        0.22, 0.24, 0.26, 0.28, 0.3 , 0.32, 0.34, 0.36, 0.38, 0.4 , 0.42,\n",
       "        0.44, 0.46, 0.48, 0.5 , 0.52, 0.54, 0.56, 0.58, 0.6 , 0.62, 0.64,\n",
       "        0.66, 0.68, 0.7 , 0.72, 0.74, 0.76, 0.78, 0.8 , 0.82, 0.84, 0.86,\n",
       "        0.88, 0.9 , 0.92, 0.94, 0.96, 0.98, 1.  ]),\n",
       " <BarContainer object of 50 artists>)"
      ]
     },
     "execution_count": 19,
     "metadata": {},
     "output_type": "execute_result"
    },
    {
     "data": {
      "image/png": "[encoded data removed]",
      "text/plain": [
       "<Figure size 432x288 with 1 Axes>"
      ]
     },
     "metadata": {},
     "output_type": "display_data"
    }
   ],
   "source": [
    "plt.hist(loan_data_defaults['recovery_rate'], bins=50)"
   ]
  },
  {
   "cell_type": "code",
   "execution_count": 20,
   "id": "fc8ac86b",
   "metadata": {},
   "outputs": [
    {
     "data": {
      "text/plain": [
       "(array([  166.,   646.,   198.,   984.,   819.,   675.,  1329.,   859.,\n",
       "         1262.,  1530.,  1265.,  1758.,  1877.,  1810.,  2041.,  2309.,\n",
       "         2344.,  2715.,  2889.,  2929.,  3282.,  3448.,  3723.,  3999.,\n",
       "         4225.,  4432.,  4579.,  5300.,  5718.,  5669.,  6145.,  6663.,\n",
       "         7155.,  7235.,  7826.,  8740.,  8914.,  9337.,  9573., 10058.,\n",
       "        10694., 11187., 11157., 11638., 11950., 12949., 11756., 10811.,\n",
       "         8619.,  5229.]),\n",
       " array([0.  , 0.02, 0.04, 0.06, 0.08, 0.1 , 0.12, 0.14, 0.16, 0.18, 0.2 ,\n",
       "        0.22, 0.24, 0.26, 0.28, 0.3 , 0.32, 0.34, 0.36, 0.38, 0.4 , 0.42,\n",
       "        0.44, 0.46, 0.48, 0.5 , 0.52, 0.54, 0.56, 0.58, 0.6 , 0.62, 0.64,\n",
       "        0.66, 0.68, 0.7 , 0.72, 0.74, 0.76, 0.78, 0.8 , 0.82, 0.84, 0.86,\n",
       "        0.88, 0.9 , 0.92, 0.94, 0.96, 0.98, 1.  ]),\n",
       " <BarContainer object of 50 artists>)"
      ]
     },
     "execution_count": 20,
     "metadata": {},
     "output_type": "execute_result"
    },
    {
     "data": {
      "image/png": "[encoded data removed]",
      "text/plain": [
       "<Figure size 432x288 with 1 Axes>"
      ]
     },
     "metadata": {},
     "output_type": "display_data"
    }
   ],
   "source": [
    "plt.hist(loan_data_defaults['CCF'], bins=50)"
   ]
  },
  {
   "cell_type": "markdown",
   "id": "01603cdd",
   "metadata": {},
   "source": [
    "The density of proportion is best described as beta distribution. But we can't do beta regression in Python."
   ]
  },
  {
   "cell_type": "markdown",
   "id": "7ca983bb",
   "metadata": {},
   "source": [
    "LGD: Two-stage approach\n",
    "1. Model if recovery rate is equal to 0 or not -> Logistic Regression\n",
    "2. If recovery rate is greater than 0, model how much it is -> Linear Regression\n",
    "\n",
    "EAD: Multiple Linear Regression"
   ]
  },
  {
   "cell_type": "code",
   "execution_count": 21,
   "id": "c631f59d",
   "metadata": {},
   "outputs": [
    {
     "name": "stderr",
     "output_type": "stream",
     "text": [
      "C:\\Users\\温泉小鱼汤\\AppData\\Local\\Temp\\ipykernel_10616\\3193898076.py:1: SettingWithCopyWarning: \n",
      "A value is trying to be set on a copy of a slice from a DataFrame.\n",
      "Try using .loc[row_indexer,col_indexer] = value instead\n",
      "\n",
      "See the caveats in the documentation: https://pandas.pydata.org/pandas-docs/stable/user_guide/indexing.html#returning-a-view-versus-a-copy\n",
      "  loan_data_defaults['recovery_rate_0_1'] = np.where(loan_data_defaults['recovery_rate'] == 0, 0, 1)\n"
     ]
    }
   ],
   "source": [
    "loan_data_defaults['recovery_rate_0_1'] = np.where(loan_data_defaults['recovery_rate'] == 0, 0, 1)"
   ]
  },
  {
   "cell_type": "code",
   "execution_count": 22,
   "id": "f130aeb6",
   "metadata": {
    "scrolled": true
   },
   "outputs": [
    {
     "data": {
      "text/plain": [
       "5040       0\n",
       "25963      0\n",
       "41393      0\n",
       "55148      0\n",
       "58105      0\n",
       "          ..\n",
       "2260633    0\n",
       "2260638    1\n",
       "2260640    0\n",
       "2260654    0\n",
       "2260655    0\n",
       "Name: recovery_rate_0_1, Length: 262416, dtype: int32"
      ]
     },
     "execution_count": 22,
     "metadata": {},
     "output_type": "execute_result"
    }
   ],
   "source": [
    "loan_data_defaults['recovery_rate_0_1'] "
   ]
  },
  {
   "cell_type": "markdown",
   "id": "34b5c45f",
   "metadata": {},
   "source": [
    "# Save output"
   ]
  },
  {
   "cell_type": "code",
   "execution_count": 23,
   "id": "5a15ec51",
   "metadata": {},
   "outputs": [],
   "source": [
    "loan_data_defaults.to_csv(r'C:\\Users\\温泉小鱼汤\\Documents\\BaiduNetdiskWorkspace\\USC\\Credit Risk Modeling\\loan_data_defaults.csv')"
   ]
  },
  {
   "cell_type": "code",
   "execution_count": null,
   "id": "643cab98",
   "metadata": {},
   "outputs": [],
   "source": []
  },
  {
   "cell_type": "markdown",
   "id": "bff53ccb",
   "metadata": {},
   "source": [
    "# Load output"
   ]
  },
  {
   "cell_type": "code",
   "execution_count": null,
   "id": "d303e94c",
   "metadata": {},
   "outputs": [],
   "source": []
  },
  {
   "cell_type": "code",
   "execution_count": 24,
   "id": "f8e4ad71",
   "metadata": {},
   "outputs": [
    {
     "name": "stderr",
     "output_type": "stream",
     "text": [
      "C:\\Users\\温泉小鱼汤\\AppData\\Local\\Temp\\ipykernel_10616\\3809257988.py:1: DtypeWarning: Columns (21,49,57,114,125,126,127,130,131,132,135) have mixed types. Specify dtype option on import or set low_memory=False.\n",
      "  loan_data_defaults = pd.read_csv(r'C:\\Users\\温泉小鱼汤\\Documents\\BaiduNetdiskWorkspace\\USC\\Credit Risk Modeling\\loan_data_defaults.csv')\n"
     ]
    }
   ],
   "source": [
    "loan_data_defaults = pd.read_csv(r'C:\\Users\\温泉小鱼汤\\Documents\\BaiduNetdiskWorkspace\\USC\\Credit Risk Modeling\\loan_data_defaults.csv')"
   ]
  },
  {
   "cell_type": "markdown",
   "id": "4fa6ca30",
   "metadata": {},
   "source": [
    "# LGD Model"
   ]
  },
  {
   "cell_type": "markdown",
   "id": "1e8193d3",
   "metadata": {},
   "source": [
    "## LGD Model: Stage 1"
   ]
  },
  {
   "cell_type": "markdown",
   "id": "b813d0ac",
   "metadata": {},
   "source": [
    "### Splitting Data"
   ]
  },
  {
   "cell_type": "code",
   "execution_count": 25,
   "id": "9655ecc2",
   "metadata": {},
   "outputs": [],
   "source": [
    "from sklearn.model_selection import train_test_split"
   ]
  },
  {
   "cell_type": "code",
   "execution_count": 26,
   "id": "d9ec56f3",
   "metadata": {},
   "outputs": [],
   "source": [
    "lgd_inputs_stage_1_train, lgd_inputs_stage_1_test, lgd_targets_stage_1_train, lgd_targets_stage_1_test = \\\n",
    "    train_test_split(loan_data_defaults.drop(['recovery_rate', 'recovery_rate_0_1', 'CCF'], axis = 1),\n",
    "                     loan_data_defaults['recovery_rate_0_1'], \n",
    "                     test_size = 0.2, random_state = 42)"
   ]
  },
  {
   "cell_type": "markdown",
   "id": "3b69aa90",
   "metadata": {},
   "source": [
    "### Preparing the Inputs"
   ]
  },
  {
   "cell_type": "markdown",
   "id": "cc1b45a0",
   "metadata": {},
   "source": [
    " Include all categorical dummy and continuous variables that we will use as predictors. "
   ]
  },
  {
   "cell_type": "code",
   "execution_count": 27,
   "id": "f9ae1edb",
   "metadata": {},
   "outputs": [],
   "source": [
    "features_all = [\n",
    "    'term_int',\n",
    "    'emp_length_int',\n",
    "    'mths_since_issue_d',\n",
    "    'int_rate',\n",
    "    'annual_inc',\n",
    "    'mths_since_last_delinq',\n",
    "    'grade:A',\n",
    "    'grade:B',\n",
    "    'grade:C',\n",
    "    'grade:D',\n",
    "    'grade:E',\n",
    "    'grade:F',\n",
    "    'grade:G',\n",
    "    'home_ownership:RENT_OTHER_NONE_ANY',\n",
    "    'home_ownership:OWN',\n",
    "    'home_ownership:MORTGAGE'\n",
    "]"
   ]
  },
  {
   "cell_type": "code",
   "execution_count": 28,
   "id": "eb9df187",
   "metadata": {},
   "outputs": [],
   "source": [
    "features_reference_cat = [\n",
    "    'grade:G',\n",
    "    'home_ownership:RENT_OTHER_NONE_ANY'\n",
    "]"
   ]
  },
  {
   "cell_type": "code",
   "execution_count": 29,
   "id": "94d76dc7",
   "metadata": {},
   "outputs": [],
   "source": [
    "lgd_inputs_stage_1_train = lgd_inputs_stage_1_train[features_all]"
   ]
  },
  {
   "cell_type": "code",
   "execution_count": 30,
   "id": "5e9a243f",
   "metadata": {},
   "outputs": [],
   "source": [
    "lgd_inputs_stage_1_train = lgd_inputs_stage_1_train.drop(features_reference_cat, axis = 1)"
   ]
  },
  {
   "cell_type": "markdown",
   "id": "ac78e237",
   "metadata": {},
   "source": [
    "### Estimating the Model"
   ]
  },
  {
   "cell_type": "markdown",
   "id": "d0143c1b",
   "metadata": {},
   "source": [
    "Build a Logistic Regression class with p values"
   ]
  },
  {
   "cell_type": "code",
   "execution_count": 31,
   "id": "537e9a55",
   "metadata": {},
   "outputs": [],
   "source": [
    "from sklearn import linear_model\n",
    "import scipy.stats as stat\n",
    "\n",
    "class LogisticRegression_with_p_values:\n",
    "    \n",
    "    # an instance of this class initialize is by inheriting from the original LogisticRegression class\n",
    "    def __init__(self,*args,**kwargs): \n",
    "        self.model = linear_model.LogisticRegression(*args, **kwargs)\n",
    "        \n",
    "    # define a fit function which overrides the original fit available in the LogisticRegression class\n",
    "    def fit(self,X,y):\n",
    "        self.model.fit(X,y)\n",
    "        denom = (2.0 * (1.0 + np.cosh(self.model.decision_function(X))))\n",
    "        denom = np.tile(denom, (X.shape[1],1)).T\n",
    "        F_ij = np.dot((X / denom).T,X)\n",
    "        Cramer_Rao = np.linalg.inv(F_ij)\n",
    "        sigma_estimates = np.sqrt(np.diagonal(Cramer_Rao))\n",
    "        z_scores = self.model.coef_[0] / sigma_estimates\n",
    "        p_values = [stat.norm.sf(abs(x)) * 2 for x in z_scores]\n",
    "        self.coef_ = self.model.coef_\n",
    "        self.intercept_ = self.model.intercept_\n",
    "        self.p_values = p_values"
   ]
  },
  {
   "cell_type": "code",
   "execution_count": 32,
   "id": "4e53db87",
   "metadata": {},
   "outputs": [],
   "source": [
    "reg_lgd_st_1 = LogisticRegression_with_p_values()\n",
    "reg_lgd_st_1.fit(lgd_inputs_stage_1_train, lgd_targets_stage_1_train)"
   ]
  },
  {
   "cell_type": "code",
   "execution_count": 33,
   "id": "788a731a",
   "metadata": {},
   "outputs": [],
   "source": [
    "feature_name = lgd_inputs_stage_1_train.columns.values"
   ]
  },
  {
   "cell_type": "code",
   "execution_count": 34,
   "id": "a838387b",
   "metadata": {},
   "outputs": [
    {
     "data": {
      "text/html": [
       "<div>\n",
       "<style scoped>\n",
       "    .dataframe tbody tr th:only-of-type {\n",
       "        vertical-align: middle;\n",
       "    }\n",
       "\n",
       "    .dataframe tbody tr th {\n",
       "        vertical-align: top;\n",
       "    }\n",
       "\n",
       "    .dataframe thead th {\n",
       "        text-align: right;\n",
       "    }\n",
       "</style>\n",
       "<table border=\"1\" class=\"dataframe\">\n",
       "  <thead>\n",
       "    <tr style=\"text-align: right;\">\n",
       "      <th></th>\n",
       "      <th>Feature name</th>\n",
       "      <th>Coefficients</th>\n",
       "      <th>p_values</th>\n",
       "    </tr>\n",
       "  </thead>\n",
       "  <tbody>\n",
       "    <tr>\n",
       "      <th>0</th>\n",
       "      <td>Intercept</td>\n",
       "      <td>-0.000357</td>\n",
       "      <td>NaN</td>\n",
       "    </tr>\n",
       "    <tr>\n",
       "      <th>1</th>\n",
       "      <td>term_int</td>\n",
       "      <td>-0.018107</td>\n",
       "      <td>0.000000e+00</td>\n",
       "    </tr>\n",
       "    <tr>\n",
       "      <th>2</th>\n",
       "      <td>emp_length_int</td>\n",
       "      <td>-0.000304</td>\n",
       "      <td>8.131200e-01</td>\n",
       "    </tr>\n",
       "    <tr>\n",
       "      <th>3</th>\n",
       "      <td>mths_since_issue_d</td>\n",
       "      <td>0.039681</td>\n",
       "      <td>0.000000e+00</td>\n",
       "    </tr>\n",
       "    <tr>\n",
       "      <th>4</th>\n",
       "      <td>int_rate</td>\n",
       "      <td>-0.001912</td>\n",
       "      <td>1.750699e-01</td>\n",
       "    </tr>\n",
       "    <tr>\n",
       "      <th>5</th>\n",
       "      <td>annual_inc</td>\n",
       "      <td>0.000001</td>\n",
       "      <td>6.802858e-25</td>\n",
       "    </tr>\n",
       "    <tr>\n",
       "      <th>6</th>\n",
       "      <td>mths_since_last_delinq</td>\n",
       "      <td>-0.000062</td>\n",
       "      <td>7.697776e-01</td>\n",
       "    </tr>\n",
       "    <tr>\n",
       "      <th>7</th>\n",
       "      <td>grade:A</td>\n",
       "      <td>-0.000200</td>\n",
       "      <td>9.944002e-01</td>\n",
       "    </tr>\n",
       "    <tr>\n",
       "      <th>8</th>\n",
       "      <td>grade:B</td>\n",
       "      <td>-0.000208</td>\n",
       "      <td>9.923623e-01</td>\n",
       "    </tr>\n",
       "    <tr>\n",
       "      <th>9</th>\n",
       "      <td>grade:C</td>\n",
       "      <td>-0.000069</td>\n",
       "      <td>9.975476e-01</td>\n",
       "    </tr>\n",
       "    <tr>\n",
       "      <th>10</th>\n",
       "      <td>grade:D</td>\n",
       "      <td>-0.000024</td>\n",
       "      <td>9.992563e-01</td>\n",
       "    </tr>\n",
       "    <tr>\n",
       "      <th>11</th>\n",
       "      <td>grade:E</td>\n",
       "      <td>0.000052</td>\n",
       "      <td>9.986089e-01</td>\n",
       "    </tr>\n",
       "    <tr>\n",
       "      <th>12</th>\n",
       "      <td>grade:F</td>\n",
       "      <td>0.000063</td>\n",
       "      <td>9.986486e-01</td>\n",
       "    </tr>\n",
       "    <tr>\n",
       "      <th>13</th>\n",
       "      <td>home_ownership:OWN</td>\n",
       "      <td>-0.000028</td>\n",
       "      <td>9.986327e-01</td>\n",
       "    </tr>\n",
       "    <tr>\n",
       "      <th>14</th>\n",
       "      <td>home_ownership:MORTGAGE</td>\n",
       "      <td>-0.000075</td>\n",
       "      <td>9.944536e-01</td>\n",
       "    </tr>\n",
       "  </tbody>\n",
       "</table>\n",
       "</div>"
      ],
      "text/plain": [
       "               Feature name  Coefficients      p_values\n",
       "0                 Intercept     -0.000357           NaN\n",
       "1                  term_int     -0.018107  0.000000e+00\n",
       "2            emp_length_int     -0.000304  8.131200e-01\n",
       "3        mths_since_issue_d      0.039681  0.000000e+00\n",
       "4                  int_rate     -0.001912  1.750699e-01\n",
       "5                annual_inc      0.000001  6.802858e-25\n",
       "6    mths_since_last_delinq     -0.000062  7.697776e-01\n",
       "7                   grade:A     -0.000200  9.944002e-01\n",
       "8                   grade:B     -0.000208  9.923623e-01\n",
       "9                   grade:C     -0.000069  9.975476e-01\n",
       "10                  grade:D     -0.000024  9.992563e-01\n",
       "11                  grade:E      0.000052  9.986089e-01\n",
       "12                  grade:F      0.000063  9.986486e-01\n",
       "13       home_ownership:OWN     -0.000028  9.986327e-01\n",
       "14  home_ownership:MORTGAGE     -0.000075  9.944536e-01"
      ]
     },
     "execution_count": 34,
     "metadata": {},
     "output_type": "execute_result"
    }
   ],
   "source": [
    "summary_table = pd.DataFrame(columns = ['Feature name'], data = feature_name)\n",
    "summary_table['Coefficients'] = np.transpose(reg_lgd_st_1.coef_)\n",
    "# add intercept\n",
    "summary_table.index = summary_table.index + 1\n",
    "summary_table.loc[0] = ['Intercept', reg_lgd_st_1.intercept_[0]]\n",
    "summary_table = summary_table.sort_index()\n",
    "# add p-values\n",
    "p_values = reg_lgd_st_1.p_values\n",
    "p_values = np.append(np.nan, np.array(p_values))\n",
    "summary_table['p_values'] = p_values\n",
    "summary_table"
   ]
  },
  {
   "cell_type": "markdown",
   "id": "2af78e73",
   "metadata": {},
   "source": [
    "### Testing the Model"
   ]
  },
  {
   "cell_type": "code",
   "execution_count": 35,
   "id": "a0f76043",
   "metadata": {},
   "outputs": [],
   "source": [
    "lgd_inputs_stage_1_test = lgd_inputs_stage_1_test[features_all]"
   ]
  },
  {
   "cell_type": "code",
   "execution_count": 36,
   "id": "6a0a4c9b",
   "metadata": {},
   "outputs": [],
   "source": [
    "lgd_inputs_stage_1_test = lgd_inputs_stage_1_test.drop(features_reference_cat, axis = 1)"
   ]
  },
  {
   "cell_type": "code",
   "execution_count": 37,
   "id": "ae20c9a5",
   "metadata": {},
   "outputs": [
    {
     "data": {
      "text/plain": [
       "array([1, 0, 1, ..., 1, 1, 1], dtype=int64)"
      ]
     },
     "execution_count": 37,
     "metadata": {},
     "output_type": "execute_result"
    }
   ],
   "source": [
    "y_hat_test_lgd_stage_1 = reg_lgd_st_1.model.predict(lgd_inputs_stage_1_test)\n",
    "y_hat_test_lgd_stage_1"
   ]
  },
  {
   "cell_type": "code",
   "execution_count": 38,
   "id": "16b1dce5",
   "metadata": {},
   "outputs": [
    {
     "data": {
      "text/plain": [
       "array([[0.49346203, 0.50653797],\n",
       "       [0.56122857, 0.43877143],\n",
       "       [0.30424884, 0.69575116],\n",
       "       ...,\n",
       "       [0.24305066, 0.75694934],\n",
       "       [0.26905851, 0.73094149],\n",
       "       [0.23028488, 0.76971512]])"
      ]
     },
     "execution_count": 38,
     "metadata": {},
     "output_type": "execute_result"
    }
   ],
   "source": [
    "y_hat_test_proba_lgd_stage_1 = reg_lgd_st_1.model.predict_proba(lgd_inputs_stage_1_test)\n",
    "y_hat_test_proba_lgd_stage_1"
   ]
  },
  {
   "cell_type": "code",
   "execution_count": 39,
   "id": "a60872db",
   "metadata": {},
   "outputs": [
    {
     "data": {
      "text/plain": [
       "array([0.50653797, 0.43877143, 0.69575116, ..., 0.75694934, 0.73094149,\n",
       "       0.76971512])"
      ]
     },
     "execution_count": 39,
     "metadata": {},
     "output_type": "execute_result"
    }
   ],
   "source": [
    "# keep only proba > 0, which is column [1]\n",
    "y_hat_test_proba_lgd_stage_1 = y_hat_test_proba_lgd_stage_1[: ][: , 1]\n",
    "y_hat_test_proba_lgd_stage_1"
   ]
  },
  {
   "cell_type": "code",
   "execution_count": 40,
   "id": "41ac649a",
   "metadata": {},
   "outputs": [
    {
     "data": {
      "text/plain": [
       "0        1\n",
       "1        0\n",
       "2        1\n",
       "3        0\n",
       "4        0\n",
       "        ..\n",
       "52479    1\n",
       "52480    1\n",
       "52481    0\n",
       "52482    0\n",
       "52483    1\n",
       "Name: recovery_rate_0_1, Length: 52484, dtype: int64"
      ]
     },
     "execution_count": 40,
     "metadata": {},
     "output_type": "execute_result"
    }
   ],
   "source": [
    "lgd_targets_stage_1_test_temp = lgd_targets_stage_1_test\n",
    "lgd_targets_stage_1_test_temp.reset_index(drop = True, inplace = True)\n",
    "lgd_targets_stage_1_test_temp"
   ]
  },
  {
   "cell_type": "code",
   "execution_count": 41,
   "id": "00be3b47",
   "metadata": {},
   "outputs": [],
   "source": [
    "df_actual_predicted_probs = pd.concat([lgd_targets_stage_1_test_temp,\n",
    "                                pd.DataFrame(y_hat_test_proba_lgd_stage_1)],\n",
    "                                     axis = 1)\n",
    "df_actual_predicted_probs.columns = ['lgd_targets_stage_1_test','y_hat_test_proba_lgd_stage_1']\n",
    "df_actual_predicted_probs.index = lgd_inputs_stage_1_test.index"
   ]
  },
  {
   "cell_type": "code",
   "execution_count": 42,
   "id": "59ddcb2c",
   "metadata": {},
   "outputs": [
    {
     "data": {
      "text/html": [
       "<div>\n",
       "<style scoped>\n",
       "    .dataframe tbody tr th:only-of-type {\n",
       "        vertical-align: middle;\n",
       "    }\n",
       "\n",
       "    .dataframe tbody tr th {\n",
       "        vertical-align: top;\n",
       "    }\n",
       "\n",
       "    .dataframe thead th {\n",
       "        text-align: right;\n",
       "    }\n",
       "</style>\n",
       "<table border=\"1\" class=\"dataframe\">\n",
       "  <thead>\n",
       "    <tr style=\"text-align: right;\">\n",
       "      <th></th>\n",
       "      <th>lgd_targets_stage_1_test</th>\n",
       "      <th>y_hat_test_proba_lgd_stage_1</th>\n",
       "    </tr>\n",
       "  </thead>\n",
       "  <tbody>\n",
       "    <tr>\n",
       "      <th>72823</th>\n",
       "      <td>1</td>\n",
       "      <td>0.506538</td>\n",
       "    </tr>\n",
       "    <tr>\n",
       "      <th>4295</th>\n",
       "      <td>0</td>\n",
       "      <td>0.438771</td>\n",
       "    </tr>\n",
       "    <tr>\n",
       "      <th>58845</th>\n",
       "      <td>1</td>\n",
       "      <td>0.695751</td>\n",
       "    </tr>\n",
       "    <tr>\n",
       "      <th>241536</th>\n",
       "      <td>0</td>\n",
       "      <td>0.768089</td>\n",
       "    </tr>\n",
       "    <tr>\n",
       "      <th>3312</th>\n",
       "      <td>0</td>\n",
       "      <td>0.445680</td>\n",
       "    </tr>\n",
       "  </tbody>\n",
       "</table>\n",
       "</div>"
      ],
      "text/plain": [
       "        lgd_targets_stage_1_test  y_hat_test_proba_lgd_stage_1\n",
       "72823                          1                      0.506538\n",
       "4295                           0                      0.438771\n",
       "58845                          1                      0.695751\n",
       "241536                         0                      0.768089\n",
       "3312                           0                      0.445680"
      ]
     },
     "execution_count": 42,
     "metadata": {},
     "output_type": "execute_result"
    }
   ],
   "source": [
    "df_actual_predicted_probs.head()"
   ]
  },
  {
   "cell_type": "markdown",
   "id": "b18c68bd",
   "metadata": {},
   "source": [
    "### Estimating Accuracy of the Model"
   ]
  },
  {
   "cell_type": "code",
   "execution_count": 43,
   "id": "42065d16",
   "metadata": {},
   "outputs": [],
   "source": [
    "tr = 0.5\n",
    "df_actual_predicted_probs['y_hat_test_lgd_stage_1'] = np.where(df_actual_predicted_probs['y_hat_test_proba_lgd_stage_1'] > tr, 1, 0)"
   ]
  },
  {
   "cell_type": "code",
   "execution_count": 44,
   "id": "62c0a77c",
   "metadata": {},
   "outputs": [
    {
     "data": {
      "text/html": [
       "<div>\n",
       "<style scoped>\n",
       "    .dataframe tbody tr th:only-of-type {\n",
       "        vertical-align: middle;\n",
       "    }\n",
       "\n",
       "    .dataframe tbody tr th {\n",
       "        vertical-align: top;\n",
       "    }\n",
       "\n",
       "    .dataframe thead th {\n",
       "        text-align: right;\n",
       "    }\n",
       "</style>\n",
       "<table border=\"1\" class=\"dataframe\">\n",
       "  <thead>\n",
       "    <tr style=\"text-align: right;\">\n",
       "      <th>Predicted</th>\n",
       "      <th>0</th>\n",
       "      <th>1</th>\n",
       "    </tr>\n",
       "    <tr>\n",
       "      <th>Actual</th>\n",
       "      <th></th>\n",
       "      <th></th>\n",
       "    </tr>\n",
       "  </thead>\n",
       "  <tbody>\n",
       "    <tr>\n",
       "      <th>0</th>\n",
       "      <td>2898</td>\n",
       "      <td>14068</td>\n",
       "    </tr>\n",
       "    <tr>\n",
       "      <th>1</th>\n",
       "      <td>2005</td>\n",
       "      <td>33513</td>\n",
       "    </tr>\n",
       "  </tbody>\n",
       "</table>\n",
       "</div>"
      ],
      "text/plain": [
       "Predicted     0      1\n",
       "Actual                \n",
       "0          2898  14068\n",
       "1          2005  33513"
      ]
     },
     "execution_count": 44,
     "metadata": {},
     "output_type": "execute_result"
    }
   ],
   "source": [
    "pd.crosstab(df_actual_predicted_probs['lgd_targets_stage_1_test'],\n",
    "            df_actual_predicted_probs['y_hat_test_lgd_stage_1'],\n",
    "               rownames = ['Actual'], colnames = ['Predicted'])"
   ]
  },
  {
   "cell_type": "code",
   "execution_count": 45,
   "id": "3b1a3bec",
   "metadata": {},
   "outputs": [
    {
     "data": {
      "text/html": [
       "<div>\n",
       "<style scoped>\n",
       "    .dataframe tbody tr th:only-of-type {\n",
       "        vertical-align: middle;\n",
       "    }\n",
       "\n",
       "    .dataframe tbody tr th {\n",
       "        vertical-align: top;\n",
       "    }\n",
       "\n",
       "    .dataframe thead th {\n",
       "        text-align: right;\n",
       "    }\n",
       "</style>\n",
       "<table border=\"1\" class=\"dataframe\">\n",
       "  <thead>\n",
       "    <tr style=\"text-align: right;\">\n",
       "      <th>Predicted</th>\n",
       "      <th>0</th>\n",
       "      <th>1</th>\n",
       "    </tr>\n",
       "    <tr>\n",
       "      <th>Actual</th>\n",
       "      <th></th>\n",
       "      <th></th>\n",
       "    </tr>\n",
       "  </thead>\n",
       "  <tbody>\n",
       "    <tr>\n",
       "      <th>0</th>\n",
       "      <td>0.055217</td>\n",
       "      <td>0.268044</td>\n",
       "    </tr>\n",
       "    <tr>\n",
       "      <th>1</th>\n",
       "      <td>0.038202</td>\n",
       "      <td>0.638537</td>\n",
       "    </tr>\n",
       "  </tbody>\n",
       "</table>\n",
       "</div>"
      ],
      "text/plain": [
       "Predicted         0         1\n",
       "Actual                       \n",
       "0          0.055217  0.268044\n",
       "1          0.038202  0.638537"
      ]
     },
     "execution_count": 45,
     "metadata": {},
     "output_type": "execute_result"
    }
   ],
   "source": [
    "conf = pd.crosstab(df_actual_predicted_probs['lgd_targets_stage_1_test'],\n",
    "            df_actual_predicted_probs['y_hat_test_lgd_stage_1'],\n",
    "    rownames = ['Actual'], colnames = ['Predicted'])/df_actual_predicted_probs.shape[0]\n",
    "conf"
   ]
  },
  {
   "cell_type": "code",
   "execution_count": 46,
   "id": "19f81a96",
   "metadata": {},
   "outputs": [
    {
     "data": {
      "text/plain": [
       "0.6937542870208063"
      ]
     },
     "execution_count": 46,
     "metadata": {},
     "output_type": "execute_result"
    }
   ],
   "source": [
    "accuracy = conf.iloc[0,0] + conf.iloc[1,1]\n",
    "accuracy"
   ]
  },
  {
   "cell_type": "code",
   "execution_count": 47,
   "id": "204e0a37",
   "metadata": {},
   "outputs": [],
   "source": [
    "from sklearn.metrics import roc_curve, roc_auc_score"
   ]
  },
  {
   "cell_type": "code",
   "execution_count": 48,
   "id": "ee2e7e60",
   "metadata": {},
   "outputs": [],
   "source": [
    "fpr, tpr, thresholds = roc_curve(df_actual_predicted_probs['lgd_targets_stage_1_test'],\n",
    "                                 df_actual_predicted_probs['y_hat_test_proba_lgd_stage_1'])"
   ]
  },
  {
   "cell_type": "code",
   "execution_count": 49,
   "id": "8defe0e5",
   "metadata": {},
   "outputs": [],
   "source": [
    "import matplotlib.pyplot as plt\n",
    "import seaborn as sns\n",
    "sns.set()"
   ]
  },
  {
   "cell_type": "code",
   "execution_count": 50,
   "id": "58569b3a",
   "metadata": {},
   "outputs": [
    {
     "data": {
      "text/plain": [
       "Text(0.5, 1.0, 'ROC curve')"
      ]
     },
     "execution_count": 50,
     "metadata": {},
     "output_type": "execute_result"
    },
    {
     "data": {
      "image/png": "[encoded data removed]",
      "text/plain": [
       "<Figure size 432x288 with 1 Axes>"
      ]
     },
     "metadata": {},
     "output_type": "display_data"
    }
   ],
   "source": [
    "plt.plot(fpr, tpr)\n",
    "plt.plot(fpr, fpr, linestyle = '--', color = 'k')\n",
    "plt.xlabel('False positive rate')\n",
    "plt.ylabel('True positive rate')\n",
    "plt.title('ROC curve')"
   ]
  },
  {
   "cell_type": "code",
   "execution_count": 51,
   "id": "a4d3ec9b",
   "metadata": {},
   "outputs": [
    {
     "data": {
      "text/plain": [
       "0.6794621013821895"
      ]
     },
     "execution_count": 51,
     "metadata": {},
     "output_type": "execute_result"
    }
   ],
   "source": [
    "AUROC = roc_auc_score(df_actual_predicted_probs['lgd_targets_stage_1_test'],\n",
    "                      df_actual_predicted_probs['y_hat_test_proba_lgd_stage_1'])\n",
    "AUROC"
   ]
  },
  {
   "cell_type": "markdown",
   "id": "88be7246",
   "metadata": {},
   "source": [
    "It is more important to have a large proportion of correctly classified 1s than to have correctly classified 0s.\n",
    "\n",
    "At the 2nd stage when we apply the linear regression model, some of the 1s may be estimated to have values of 0."
   ]
  },
  {
   "cell_type": "markdown",
   "id": "23585672",
   "metadata": {},
   "source": [
    "### Saving the Model"
   ]
  },
  {
   "cell_type": "code",
   "execution_count": 52,
   "id": "ccd0af76",
   "metadata": {},
   "outputs": [],
   "source": [
    "import pickle"
   ]
  },
  {
   "cell_type": "code",
   "execution_count": 53,
   "id": "ef5974a0",
   "metadata": {},
   "outputs": [],
   "source": [
    "pickle.dump(reg_lgd_st_1, open('lgd_model_stage_1.sav', 'wb')) #wb - write bytes"
   ]
  },
  {
   "cell_type": "markdown",
   "id": "78f0f539",
   "metadata": {},
   "source": [
    "## LGD Model: Stage 2"
   ]
  },
  {
   "cell_type": "code",
   "execution_count": 54,
   "id": "e9d64c99",
   "metadata": {},
   "outputs": [],
   "source": [
    "# only work with data that has non-zero recovery rate\n",
    "lgd_stage_2_data = loan_data_defaults[loan_data_defaults['recovery_rate_0_1'] == 1]"
   ]
  },
  {
   "cell_type": "markdown",
   "id": "d88ab23c",
   "metadata": {},
   "source": [
    "### Splitting Data"
   ]
  },
  {
   "cell_type": "code",
   "execution_count": 55,
   "id": "8901064e",
   "metadata": {},
   "outputs": [],
   "source": [
    "lgd_inputs_stage_2_train, lgd_inputs_stage_2_test, lgd_targets_stage_2_train, lgd_targets_stage_2_test = \\\n",
    "    train_test_split(lgd_stage_2_data.drop(['recovery_rate', 'recovery_rate_0_1', 'CCF'], axis = 1),\n",
    "                     lgd_stage_2_data['recovery_rate'], # target is recovery rate\n",
    "                     test_size = 0.2, random_state = 42)"
   ]
  },
  {
   "cell_type": "markdown",
   "id": "020096c3",
   "metadata": {},
   "source": [
    "### Estimating the Model"
   ]
  },
  {
   "cell_type": "code",
   "execution_count": 56,
   "id": "59db38de",
   "metadata": {},
   "outputs": [],
   "source": [
    "from sklearn import linear_model\n",
    "from sklearn.metrics import mean_squared_error, r2_score"
   ]
  },
  {
   "cell_type": "markdown",
   "id": "c5654bc0",
   "metadata": {},
   "source": [
    "Build a Linear Regression class with p values"
   ]
  },
  {
   "cell_type": "code",
   "execution_count": 57,
   "id": "3ab92119",
   "metadata": {},
   "outputs": [],
   "source": [
    "class LinearRegression(linear_model.LinearRegression):\n",
    "    \n",
    "    def __init__(self, fit_intercept=True, normalize=False, copy_X=True, n_jobs=1, positive=False):\n",
    "        self.fit_intercept = fit_intercept\n",
    "        self.normalize = normalize\n",
    "        self.copy_X = copy_X\n",
    "        self.n_jobs = n_jobs\n",
    "        self.positive = positive\n",
    "        \n",
    "    def fit(self, X, y, n_jobs=1):\n",
    "        self = super(LinearRegression, self).fit(X, y, n_jobs)\n",
    "        sse = np.sum((self.predict(X) - y) ** 2, axis=0) / float(X.shape[0] - X.shape[1])\n",
    "        se = np.array([np.sqrt(np.diagonal(sse * np.linalg.inv(np.dot(X.T, X))))])\n",
    "        self.t = self.coef_ / se\n",
    "        self.p = np.squeeze(2 * (1 - stat.t.cdf(np.abs(self.t), y.shape[0] - X.shape[1])))\n",
    "        return self"
   ]
  },
  {
   "cell_type": "code",
   "execution_count": 58,
   "id": "f1768a2b",
   "metadata": {},
   "outputs": [],
   "source": [
    "lgd_inputs_stage_2_train = lgd_inputs_stage_2_train[features_all]"
   ]
  },
  {
   "cell_type": "code",
   "execution_count": 59,
   "id": "13ce3492",
   "metadata": {},
   "outputs": [],
   "source": [
    "lgd_inputs_stage_2_train = lgd_inputs_stage_2_train.drop(features_reference_cat, axis=1)"
   ]
  },
  {
   "cell_type": "code",
   "execution_count": 60,
   "id": "b0f19435",
   "metadata": {},
   "outputs": [
    {
     "name": "stderr",
     "output_type": "stream",
     "text": [
      "C:\\ProgramData\\Anaconda3\\lib\\site-packages\\sklearn\\linear_model\\_base.py:148: FutureWarning: 'normalize' was deprecated in version 1.0 and will be removed in 1.2. Please leave the normalize parameter to its default value to silence this warning. The default behavior of this estimator is to not do any normalization. If normalization is needed please use sklearn.preprocessing.StandardScaler instead.\n",
      "  warnings.warn(\n"
     ]
    },
    {
     "data": {
      "text/plain": [
       "LinearRegression()"
      ]
     },
     "execution_count": 60,
     "metadata": {},
     "output_type": "execute_result"
    }
   ],
   "source": [
    "reg_lgd_st_2 = LinearRegression()\n",
    "reg_lgd_st_2.fit(lgd_inputs_stage_2_train, lgd_targets_stage_2_train)"
   ]
  },
  {
   "cell_type": "code",
   "execution_count": 61,
   "id": "81e91f10",
   "metadata": {},
   "outputs": [],
   "source": [
    "feature_name = lgd_inputs_stage_2_train.columns.values"
   ]
  },
  {
   "cell_type": "code",
   "execution_count": 62,
   "id": "925595d6",
   "metadata": {
    "scrolled": true
   },
   "outputs": [
    {
     "data": {
      "text/html": [
       "<div>\n",
       "<style scoped>\n",
       "    .dataframe tbody tr th:only-of-type {\n",
       "        vertical-align: middle;\n",
       "    }\n",
       "\n",
       "    .dataframe tbody tr th {\n",
       "        vertical-align: top;\n",
       "    }\n",
       "\n",
       "    .dataframe thead th {\n",
       "        text-align: right;\n",
       "    }\n",
       "</style>\n",
       "<table border=\"1\" class=\"dataframe\">\n",
       "  <thead>\n",
       "    <tr style=\"text-align: right;\">\n",
       "      <th></th>\n",
       "      <th>Feature name</th>\n",
       "      <th>Coefficients</th>\n",
       "      <th>p_values</th>\n",
       "    </tr>\n",
       "  </thead>\n",
       "  <tbody>\n",
       "    <tr>\n",
       "      <th>0</th>\n",
       "      <td>Intercept</td>\n",
       "      <td>1.505734e-01</td>\n",
       "      <td>NaN</td>\n",
       "    </tr>\n",
       "    <tr>\n",
       "      <th>1</th>\n",
       "      <td>term_int</td>\n",
       "      <td>5.514812e-04</td>\n",
       "      <td>0.000000e+00</td>\n",
       "    </tr>\n",
       "    <tr>\n",
       "      <th>2</th>\n",
       "      <td>emp_length_int</td>\n",
       "      <td>2.469833e-04</td>\n",
       "      <td>1.947881e-04</td>\n",
       "    </tr>\n",
       "    <tr>\n",
       "      <th>3</th>\n",
       "      <td>mths_since_issue_d</td>\n",
       "      <td>-8.579569e-04</td>\n",
       "      <td>0.000000e+00</td>\n",
       "    </tr>\n",
       "    <tr>\n",
       "      <th>4</th>\n",
       "      <td>int_rate</td>\n",
       "      <td>-6.805455e-04</td>\n",
       "      <td>0.000000e+00</td>\n",
       "    </tr>\n",
       "    <tr>\n",
       "      <th>5</th>\n",
       "      <td>annual_inc</td>\n",
       "      <td>1.373376e-08</td>\n",
       "      <td>4.179631e-04</td>\n",
       "    </tr>\n",
       "    <tr>\n",
       "      <th>6</th>\n",
       "      <td>mths_since_last_delinq</td>\n",
       "      <td>-2.441614e-05</td>\n",
       "      <td>2.438734e-02</td>\n",
       "    </tr>\n",
       "    <tr>\n",
       "      <th>7</th>\n",
       "      <td>grade:A</td>\n",
       "      <td>-3.046037e-02</td>\n",
       "      <td>0.000000e+00</td>\n",
       "    </tr>\n",
       "    <tr>\n",
       "      <th>8</th>\n",
       "      <td>grade:B</td>\n",
       "      <td>-3.287654e-02</td>\n",
       "      <td>0.000000e+00</td>\n",
       "    </tr>\n",
       "    <tr>\n",
       "      <th>9</th>\n",
       "      <td>grade:C</td>\n",
       "      <td>-2.775769e-02</td>\n",
       "      <td>0.000000e+00</td>\n",
       "    </tr>\n",
       "    <tr>\n",
       "      <th>10</th>\n",
       "      <td>grade:D</td>\n",
       "      <td>-1.876584e-02</td>\n",
       "      <td>0.000000e+00</td>\n",
       "    </tr>\n",
       "    <tr>\n",
       "      <th>11</th>\n",
       "      <td>grade:E</td>\n",
       "      <td>-1.125675e-02</td>\n",
       "      <td>1.374456e-13</td>\n",
       "    </tr>\n",
       "    <tr>\n",
       "      <th>12</th>\n",
       "      <td>grade:F</td>\n",
       "      <td>-3.807780e-03</td>\n",
       "      <td>4.234258e-02</td>\n",
       "    </tr>\n",
       "    <tr>\n",
       "      <th>13</th>\n",
       "      <td>home_ownership:OWN</td>\n",
       "      <td>4.982828e-03</td>\n",
       "      <td>3.381536e-09</td>\n",
       "    </tr>\n",
       "    <tr>\n",
       "      <th>14</th>\n",
       "      <td>home_ownership:MORTGAGE</td>\n",
       "      <td>5.526244e-03</td>\n",
       "      <td>0.000000e+00</td>\n",
       "    </tr>\n",
       "  </tbody>\n",
       "</table>\n",
       "</div>"
      ],
      "text/plain": [
       "               Feature name  Coefficients      p_values\n",
       "0                 Intercept  1.505734e-01           NaN\n",
       "1                  term_int  5.514812e-04  0.000000e+00\n",
       "2            emp_length_int  2.469833e-04  1.947881e-04\n",
       "3        mths_since_issue_d -8.579569e-04  0.000000e+00\n",
       "4                  int_rate -6.805455e-04  0.000000e+00\n",
       "5                annual_inc  1.373376e-08  4.179631e-04\n",
       "6    mths_since_last_delinq -2.441614e-05  2.438734e-02\n",
       "7                   grade:A -3.046037e-02  0.000000e+00\n",
       "8                   grade:B -3.287654e-02  0.000000e+00\n",
       "9                   grade:C -2.775769e-02  0.000000e+00\n",
       "10                  grade:D -1.876584e-02  0.000000e+00\n",
       "11                  grade:E -1.125675e-02  1.374456e-13\n",
       "12                  grade:F -3.807780e-03  4.234258e-02\n",
       "13       home_ownership:OWN  4.982828e-03  3.381536e-09\n",
       "14  home_ownership:MORTGAGE  5.526244e-03  0.000000e+00"
      ]
     },
     "execution_count": 62,
     "metadata": {},
     "output_type": "execute_result"
    }
   ],
   "source": [
    "summary_table = pd.DataFrame(columns = ['Feature name'], data = feature_name)\n",
    "summary_table['Coefficients'] = np.transpose(reg_lgd_st_2.coef_)\n",
    "# add intercept\n",
    "summary_table.index = summary_table.index + 1\n",
    "summary_table.loc[0] = ['Intercept', reg_lgd_st_2.intercept_]\n",
    "summary_table = summary_table.sort_index()\n",
    "# add p-values\n",
    "p_values = reg_lgd_st_2.p\n",
    "p_values = np.append(np.nan, np.array(p_values))\n",
    "summary_table['p_values'] = p_values\n",
    "summary_table"
   ]
  },
  {
   "cell_type": "markdown",
   "id": "584789d2",
   "metadata": {},
   "source": [
    "### Linear Regression Evaluation"
   ]
  },
  {
   "cell_type": "code",
   "execution_count": 63,
   "id": "506c470e",
   "metadata": {},
   "outputs": [],
   "source": [
    "lgd_inputs_stage_2_test = lgd_inputs_stage_2_test[features_all]"
   ]
  },
  {
   "cell_type": "code",
   "execution_count": 64,
   "id": "83478946",
   "metadata": {},
   "outputs": [],
   "source": [
    "lgd_inputs_stage_2_test = lgd_inputs_stage_2_test.drop(features_reference_cat, axis=1)"
   ]
  },
  {
   "cell_type": "code",
   "execution_count": 65,
   "id": "4118890f",
   "metadata": {},
   "outputs": [],
   "source": [
    "# get predicted values\n",
    "y_hat_test_lgd_stage_2 = reg_lgd_st_2.predict(lgd_inputs_stage_2_test)"
   ]
  },
  {
   "cell_type": "markdown",
   "id": "859eb427",
   "metadata": {},
   "source": [
    "#### Correlation Check"
   ]
  },
  {
   "cell_type": "code",
   "execution_count": 66,
   "id": "ac156af3",
   "metadata": {},
   "outputs": [],
   "source": [
    "# reset the index prior to concat\n",
    "lgd_targets_stage_2_test_temp = lgd_targets_stage_2_test\n",
    "lgd_targets_stage_2_test_temp = lgd_targets_stage_2_test_temp.reset_index(drop=True)"
   ]
  },
  {
   "cell_type": "markdown",
   "id": "22fe2a5c",
   "metadata": {},
   "source": [
    "Finding correlation between actual and predicted values"
   ]
  },
  {
   "cell_type": "code",
   "execution_count": 67,
   "id": "d9cf881f",
   "metadata": {},
   "outputs": [
    {
     "data": {
      "text/html": [
       "<div>\n",
       "<style scoped>\n",
       "    .dataframe tbody tr th:only-of-type {\n",
       "        vertical-align: middle;\n",
       "    }\n",
       "\n",
       "    .dataframe tbody tr th {\n",
       "        vertical-align: top;\n",
       "    }\n",
       "\n",
       "    .dataframe thead th {\n",
       "        text-align: right;\n",
       "    }\n",
       "</style>\n",
       "<table border=\"1\" class=\"dataframe\">\n",
       "  <thead>\n",
       "    <tr style=\"text-align: right;\">\n",
       "      <th></th>\n",
       "      <th>recovery_rate</th>\n",
       "      <th>0</th>\n",
       "    </tr>\n",
       "  </thead>\n",
       "  <tbody>\n",
       "    <tr>\n",
       "      <th>recovery_rate</th>\n",
       "      <td>1.000000</td>\n",
       "      <td>0.202276</td>\n",
       "    </tr>\n",
       "    <tr>\n",
       "      <th>0</th>\n",
       "      <td>0.202276</td>\n",
       "      <td>1.000000</td>\n",
       "    </tr>\n",
       "  </tbody>\n",
       "</table>\n",
       "</div>"
      ],
      "text/plain": [
       "               recovery_rate         0\n",
       "recovery_rate       1.000000  0.202276\n",
       "0                   0.202276  1.000000"
      ]
     },
     "execution_count": 67,
     "metadata": {},
     "output_type": "execute_result"
    }
   ],
   "source": [
    "pd.concat([lgd_targets_stage_2_test_temp,\n",
    "           pd.DataFrame(y_hat_test_lgd_stage_2)], axis=1).corr()"
   ]
  },
  {
   "cell_type": "markdown",
   "id": "b82426d4",
   "metadata": {},
   "source": [
    " - The correlation is weak but satisfactory for a LGD model. If the correlation was too high, we would question our methodology."
   ]
  },
  {
   "cell_type": "markdown",
   "id": "d49abc7b",
   "metadata": {},
   "source": [
    "#### Normality Check"
   ]
  },
  {
   "cell_type": "markdown",
   "id": "00221054",
   "metadata": {},
   "source": [
    "Looking at the distribution between actual and predicted values"
   ]
  },
  {
   "cell_type": "code",
   "execution_count": 68,
   "id": "f3fb7ae2",
   "metadata": {
    "scrolled": true
   },
   "outputs": [
    {
     "name": "stderr",
     "output_type": "stream",
     "text": [
      "C:\\ProgramData\\Anaconda3\\lib\\site-packages\\seaborn\\distributions.py:2619: FutureWarning: `distplot` is a deprecated function and will be removed in a future version. Please adapt your code to use either `displot` (a figure-level function with similar flexibility) or `histplot` (an axes-level function for histograms).\n",
      "  warnings.warn(msg, FutureWarning)\n"
     ]
    },
    {
     "data": {
      "text/plain": [
       "<AxesSubplot:xlabel='recovery_rate', ylabel='Density'>"
      ]
     },
     "execution_count": 68,
     "metadata": {},
     "output_type": "execute_result"
    },
    {
     "data": {
      "image/png": "[encoded data removed]",
      "text/plain": [
       "<Figure size 432x288 with 1 Axes>"
      ]
     },
     "metadata": {},
     "output_type": "display_data"
    }
   ],
   "source": [
    "# plotting the residuals\n",
    "sns.distplot(lgd_targets_stage_2_test - y_hat_test_lgd_stage_2)\n",
    "# sns.distplot(lgd_targets_stage_2_test_temp - y_hat_test_lgd_stage_2)"
   ]
  },
  {
   "cell_type": "markdown",
   "id": "3755629c",
   "metadata": {},
   "source": [
    "- The distribution resembles a Normal distribution and most of the residuals are symmetrically distributed around 0"
   ]
  },
  {
   "cell_type": "code",
   "execution_count": 69,
   "id": "60745740",
   "metadata": {},
   "outputs": [],
   "source": [
    "pickle.dump(reg_lgd_st_2, open('lgd_model_stage_2.sav', 'wb'))"
   ]
  },
  {
   "cell_type": "markdown",
   "id": "9f4e05ac",
   "metadata": {},
   "source": [
    "## Combining Stage 1 and Stage 2"
   ]
  },
  {
   "cell_type": "code",
   "execution_count": 70,
   "id": "31464c4b",
   "metadata": {},
   "outputs": [],
   "source": [
    "y_hat_test_lgd_stage_2_all = reg_lgd_st_2.predict(lgd_inputs_stage_1_test)"
   ]
  },
  {
   "cell_type": "code",
   "execution_count": 71,
   "id": "61f4b9db",
   "metadata": {},
   "outputs": [
    {
     "data": {
      "text/plain": [
       "array([0.12320107, 0.13090075, 0.1112523 , ..., 0.09361139, 0.10755605,\n",
       "       0.091945  ])"
      ]
     },
     "execution_count": 71,
     "metadata": {},
     "output_type": "execute_result"
    }
   ],
   "source": [
    "y_hat_test_lgd_stage_2_all"
   ]
  },
  {
   "cell_type": "markdown",
   "id": "3c21fb10",
   "metadata": {},
   "source": [
    "LGD prediction is stage 1 prediction * stage 2 prediction"
   ]
  },
  {
   "cell_type": "code",
   "execution_count": 72,
   "id": "61e3cddd",
   "metadata": {},
   "outputs": [],
   "source": [
    "y_hat_test_lgd = y_hat_test_lgd_stage_1 * y_hat_test_lgd_stage_2_all"
   ]
  },
  {
   "cell_type": "code",
   "execution_count": 73,
   "id": "9d0b5e2c",
   "metadata": {},
   "outputs": [
    {
     "data": {
      "text/html": [
       "<div>\n",
       "<style scoped>\n",
       "    .dataframe tbody tr th:only-of-type {\n",
       "        vertical-align: middle;\n",
       "    }\n",
       "\n",
       "    .dataframe tbody tr th {\n",
       "        vertical-align: top;\n",
       "    }\n",
       "\n",
       "    .dataframe thead th {\n",
       "        text-align: right;\n",
       "    }\n",
       "</style>\n",
       "<table border=\"1\" class=\"dataframe\">\n",
       "  <thead>\n",
       "    <tr style=\"text-align: right;\">\n",
       "      <th></th>\n",
       "      <th>0</th>\n",
       "    </tr>\n",
       "  </thead>\n",
       "  <tbody>\n",
       "    <tr>\n",
       "      <th>count</th>\n",
       "      <td>52484.000000</td>\n",
       "    </tr>\n",
       "    <tr>\n",
       "      <th>mean</th>\n",
       "      <td>0.098377</td>\n",
       "    </tr>\n",
       "    <tr>\n",
       "      <th>std</th>\n",
       "      <td>0.035700</td>\n",
       "    </tr>\n",
       "    <tr>\n",
       "      <th>min</th>\n",
       "      <td>0.000000</td>\n",
       "    </tr>\n",
       "    <tr>\n",
       "      <th>25%</th>\n",
       "      <td>0.093674</td>\n",
       "    </tr>\n",
       "    <tr>\n",
       "      <th>50%</th>\n",
       "      <td>0.108684</td>\n",
       "    </tr>\n",
       "    <tr>\n",
       "      <th>75%</th>\n",
       "      <td>0.119393</td>\n",
       "    </tr>\n",
       "    <tr>\n",
       "      <th>max</th>\n",
       "      <td>0.229705</td>\n",
       "    </tr>\n",
       "  </tbody>\n",
       "</table>\n",
       "</div>"
      ],
      "text/plain": [
       "                  0\n",
       "count  52484.000000\n",
       "mean       0.098377\n",
       "std        0.035700\n",
       "min        0.000000\n",
       "25%        0.093674\n",
       "50%        0.108684\n",
       "75%        0.119393\n",
       "max        0.229705"
      ]
     },
     "execution_count": 73,
     "metadata": {},
     "output_type": "execute_result"
    }
   ],
   "source": [
    "pd.DataFrame(y_hat_test_lgd).describe()"
   ]
  },
  {
   "cell_type": "code",
   "execution_count": 74,
   "id": "94fe15d3",
   "metadata": {},
   "outputs": [],
   "source": [
    "# cap lgd prediction between 0 to 1\n",
    "y_hat_test_lgd = np.where(y_hat_test_lgd < 0, 0, y_hat_test_lgd)\n",
    "y_hat_test_lgd = np.where(y_hat_test_lgd > 1, 1, y_hat_test_lgd)"
   ]
  },
  {
   "cell_type": "markdown",
   "id": "5bcb03a8",
   "metadata": {},
   "source": [
    "# EAD Model"
   ]
  },
  {
   "cell_type": "markdown",
   "id": "b10becaf",
   "metadata": {},
   "source": [
    "## Estimation and Interpretation"
   ]
  },
  {
   "cell_type": "code",
   "execution_count": 75,
   "id": "5d14d2f5",
   "metadata": {},
   "outputs": [],
   "source": [
    "ead_inputs_train, ead_inputs_test, ead_targets_train, ead_targets_test = \\\n",
    "    train_test_split(loan_data_defaults.drop(['recovery_rate', \n",
    "                                              'recovery_rate_0_1', \n",
    "                                              'CCF'], axis = 1),\n",
    "                     loan_data_defaults['CCF'], \n",
    "                     test_size = 0.2, random_state = 42)                                                                                    "
   ]
  },
  {
   "cell_type": "code",
   "execution_count": 76,
   "id": "36f174c5",
   "metadata": {},
   "outputs": [
    {
     "data": {
      "text/plain": [
       "array(['Unnamed: 0.1', 'Unnamed: 0', 'id', 'member_id', 'loan_amnt',\n",
       "       'funded_amnt', 'funded_amnt_inv', 'term', 'int_rate',\n",
       "       'installment', 'grade', 'sub_grade', 'emp_title', 'emp_length',\n",
       "       'home_ownership', 'annual_inc', 'verification_status', 'issue_d',\n",
       "       'loan_status', 'pymnt_plan', 'url', 'desc', 'purpose', 'title',\n",
       "       'zip_code', 'addr_state', 'dti', 'delinq_2yrs', 'earliest_cr_line',\n",
       "       'inq_last_6mths', 'mths_since_last_delinq',\n",
       "       'mths_since_last_record', 'open_acc', 'pub_rec', 'revol_bal',\n",
       "       'revol_util', 'total_acc', 'initial_list_status', 'out_prncp',\n",
       "       'out_prncp_inv', 'total_pymnt', 'total_pymnt_inv',\n",
       "       'total_rec_prncp', 'total_rec_int', 'total_rec_late_fee',\n",
       "       'recoveries', 'collection_recovery_fee', 'last_pymnt_d',\n",
       "       'last_pymnt_amnt', 'next_pymnt_d', 'last_credit_pull_d',\n",
       "       'collections_12_mths_ex_med', 'mths_since_last_major_derog',\n",
       "       'policy_code', 'application_type', 'annual_inc_joint', 'dti_joint',\n",
       "       'verification_status_joint', 'acc_now_delinq', 'tot_coll_amt',\n",
       "       'tot_cur_bal', 'open_acc_6m', 'open_act_il', 'open_il_12m',\n",
       "       'open_il_24m', 'mths_since_rcnt_il', 'total_bal_il', 'il_util',\n",
       "       'open_rv_12m', 'open_rv_24m', 'max_bal_bc', 'all_util',\n",
       "       'total_rev_hi_lim', 'inq_fi', 'total_cu_tl', 'inq_last_12m',\n",
       "       'acc_open_past_24mths', 'avg_cur_bal', 'bc_open_to_buy', 'bc_util',\n",
       "       'chargeoff_within_12_mths', 'delinq_amnt', 'mo_sin_old_il_acct',\n",
       "       'mo_sin_old_rev_tl_op', 'mo_sin_rcnt_rev_tl_op', 'mo_sin_rcnt_tl',\n",
       "       'mort_acc', 'mths_since_recent_bc', 'mths_since_recent_bc_dlq',\n",
       "       'mths_since_recent_inq', 'mths_since_recent_revol_delinq',\n",
       "       'num_accts_ever_120_pd', 'num_actv_bc_tl', 'num_actv_rev_tl',\n",
       "       'num_bc_sats', 'num_bc_tl', 'num_il_tl', 'num_op_rev_tl',\n",
       "       'num_rev_accts', 'num_rev_tl_bal_gt_0', 'num_sats',\n",
       "       'num_tl_120dpd_2m', 'num_tl_30dpd', 'num_tl_90g_dpd_24m',\n",
       "       'num_tl_op_past_12m', 'pct_tl_nvr_dlq', 'percent_bc_gt_75',\n",
       "       'pub_rec_bankruptcies', 'tax_liens', 'tot_hi_cred_lim',\n",
       "       'total_bal_ex_mort', 'total_bc_limit',\n",
       "       'total_il_high_credit_limit', 'revol_bal_joint',\n",
       "       'sec_app_earliest_cr_line', 'sec_app_inq_last_6mths',\n",
       "       'sec_app_mort_acc', 'sec_app_open_acc', 'sec_app_revol_util',\n",
       "       'sec_app_open_act_il', 'sec_app_num_rev_accts',\n",
       "       'sec_app_chargeoff_within_12_mths',\n",
       "       'sec_app_collections_12_mths_ex_med',\n",
       "       'sec_app_mths_since_last_major_derog', 'hardship_flag',\n",
       "       'hardship_type', 'hardship_reason', 'hardship_status',\n",
       "       'deferral_term', 'hardship_amount', 'hardship_start_date',\n",
       "       'hardship_end_date', 'payment_plan_start_date', 'hardship_length',\n",
       "       'hardship_dpd', 'hardship_loan_status',\n",
       "       'orig_projected_additional_accrued_interest',\n",
       "       'hardship_payoff_balance_amount', 'hardship_last_payment_amount',\n",
       "       'disbursement_method', 'debt_settlement_flag',\n",
       "       'debt_settlement_flag_date', 'settlement_status',\n",
       "       'settlement_date', 'settlement_amount', 'settlement_percentage',\n",
       "       'settlement_term', 'emp_length_int', 'term_int',\n",
       "       'earliest_cr_line_date', 'issue_date',\n",
       "       'mths_since_earliest_cr_line', 'mths_since_issue_d', 'grade:A',\n",
       "       'grade:B', 'grade:C', 'grade:D', 'grade:E', 'grade:F', 'grade:G',\n",
       "       'sub_grade:A1', 'sub_grade:A2', 'sub_grade:A3', 'sub_grade:A4',\n",
       "       'sub_grade:A5', 'sub_grade:B1', 'sub_grade:B2', 'sub_grade:B3',\n",
       "       'sub_grade:B4', 'sub_grade:B5', 'sub_grade:C1', 'sub_grade:C2',\n",
       "       'sub_grade:C3', 'sub_grade:C4', 'sub_grade:C5', 'sub_grade:D1',\n",
       "       'sub_grade:D2', 'sub_grade:D3', 'sub_grade:D4', 'sub_grade:D5',\n",
       "       'sub_grade:E1', 'sub_grade:E2', 'sub_grade:E3', 'sub_grade:E4',\n",
       "       'sub_grade:E5', 'sub_grade:F1', 'sub_grade:F2', 'sub_grade:F3',\n",
       "       'sub_grade:F4', 'sub_grade:F5', 'sub_grade:G1', 'sub_grade:G2',\n",
       "       'sub_grade:G3', 'sub_grade:G4', 'sub_grade:G5',\n",
       "       'home_ownership:ANY', 'home_ownership:MORTGAGE',\n",
       "       'home_ownership:NONE', 'home_ownership:OTHER',\n",
       "       'home_ownership:OWN', 'home_ownership:RENT',\n",
       "       'verification_status:Not Verified',\n",
       "       'verification_status:Source Verified',\n",
       "       'verification_status:Verified', 'loan_status:Charged Off',\n",
       "       'loan_status:Current', 'loan_status:Default',\n",
       "       'loan_status:Does not meet the credit policy. Status:Charged Off',\n",
       "       'loan_status:Does not meet the credit policy. Status:Fully Paid',\n",
       "       'loan_status:Fully Paid', 'loan_status:In Grace Period',\n",
       "       'loan_status:Late (16-30 days)', 'loan_status:Late (31-120 days)',\n",
       "       'purpose:car', 'purpose:credit_card', 'purpose:debt_consolidation',\n",
       "       'purpose:educational', 'purpose:home_improvement', 'purpose:house',\n",
       "       'purpose:major_purchase', 'purpose:medical', 'purpose:moving',\n",
       "       'purpose:other', 'purpose:renewable_energy',\n",
       "       'purpose:small_business', 'purpose:vacation', 'purpose:wedding',\n",
       "       'addr_state:AK', 'addr_state:AL', 'addr_state:AR', 'addr_state:AZ',\n",
       "       'addr_state:CA', 'addr_state:CO', 'addr_state:CT', 'addr_state:DC',\n",
       "       'addr_state:DE', 'addr_state:FL', 'addr_state:GA', 'addr_state:HI',\n",
       "       'addr_state:IA', 'addr_state:ID', 'addr_state:IL', 'addr_state:IN',\n",
       "       'addr_state:KS', 'addr_state:KY', 'addr_state:LA', 'addr_state:MA',\n",
       "       'addr_state:MD', 'addr_state:ME', 'addr_state:MI', 'addr_state:MN',\n",
       "       'addr_state:MO', 'addr_state:MS', 'addr_state:MT', 'addr_state:NC',\n",
       "       'addr_state:ND', 'addr_state:NE', 'addr_state:NH', 'addr_state:NJ',\n",
       "       'addr_state:NM', 'addr_state:NV', 'addr_state:NY', 'addr_state:OH',\n",
       "       'addr_state:OK', 'addr_state:OR', 'addr_state:PA', 'addr_state:RI',\n",
       "       'addr_state:SC', 'addr_state:SD', 'addr_state:TN', 'addr_state:TX',\n",
       "       'addr_state:UT', 'addr_state:VA', 'addr_state:VT', 'addr_state:WA',\n",
       "       'addr_state:WI', 'addr_state:WV', 'addr_state:WY',\n",
       "       'initial_list_status:f', 'initial_list_status:w',\n",
       "       'home_ownership:RENT_OTHER_NONE_ANY'], dtype=object)"
      ]
     },
     "execution_count": 76,
     "metadata": {},
     "output_type": "execute_result"
    }
   ],
   "source": [
    "ead_inputs_train.columns.values"
   ]
  },
  {
   "cell_type": "code",
   "execution_count": 77,
   "id": "f61d7fe7",
   "metadata": {},
   "outputs": [],
   "source": [
    "ead_inputs_train = ead_inputs_train[features_all]"
   ]
  },
  {
   "cell_type": "code",
   "execution_count": 78,
   "id": "4446b0cf",
   "metadata": {},
   "outputs": [],
   "source": [
    "ead_inputs_train = ead_inputs_train.drop(features_reference_cat, axis = 1)"
   ]
  },
  {
   "cell_type": "code",
   "execution_count": 79,
   "id": "3999b43c",
   "metadata": {},
   "outputs": [
    {
     "name": "stderr",
     "output_type": "stream",
     "text": [
      "C:\\ProgramData\\Anaconda3\\lib\\site-packages\\sklearn\\linear_model\\_base.py:148: FutureWarning: 'normalize' was deprecated in version 1.0 and will be removed in 1.2. Please leave the normalize parameter to its default value to silence this warning. The default behavior of this estimator is to not do any normalization. If normalization is needed please use sklearn.preprocessing.StandardScaler instead.\n",
      "  warnings.warn(\n"
     ]
    },
    {
     "data": {
      "text/plain": [
       "LinearRegression()"
      ]
     },
     "execution_count": 79,
     "metadata": {},
     "output_type": "execute_result"
    }
   ],
   "source": [
    "reg_ead = LinearRegression()\n",
    "reg_ead.fit(ead_inputs_train, ead_targets_train)"
   ]
  },
  {
   "cell_type": "code",
   "execution_count": 80,
   "id": "67d38e51",
   "metadata": {},
   "outputs": [],
   "source": [
    "feature_name = ead_inputs_train.columns.values"
   ]
  },
  {
   "cell_type": "code",
   "execution_count": 81,
   "id": "ce1a80b2",
   "metadata": {
    "scrolled": true
   },
   "outputs": [
    {
     "data": {
      "text/html": [
       "<div>\n",
       "<style scoped>\n",
       "    .dataframe tbody tr th:only-of-type {\n",
       "        vertical-align: middle;\n",
       "    }\n",
       "\n",
       "    .dataframe tbody tr th {\n",
       "        vertical-align: top;\n",
       "    }\n",
       "\n",
       "    .dataframe thead th {\n",
       "        text-align: right;\n",
       "    }\n",
       "</style>\n",
       "<table border=\"1\" class=\"dataframe\">\n",
       "  <thead>\n",
       "    <tr style=\"text-align: right;\">\n",
       "      <th></th>\n",
       "      <th>Feature name</th>\n",
       "      <th>Coefficients</th>\n",
       "      <th>p_values</th>\n",
       "    </tr>\n",
       "  </thead>\n",
       "  <tbody>\n",
       "    <tr>\n",
       "      <th>0</th>\n",
       "      <td>Intercept</td>\n",
       "      <td>4.580041e-01</td>\n",
       "      <td>NaN</td>\n",
       "    </tr>\n",
       "    <tr>\n",
       "      <th>1</th>\n",
       "      <td>term_int</td>\n",
       "      <td>4.607010e-03</td>\n",
       "      <td>0.000000e+00</td>\n",
       "    </tr>\n",
       "    <tr>\n",
       "      <th>2</th>\n",
       "      <td>emp_length_int</td>\n",
       "      <td>-1.527948e-03</td>\n",
       "      <td>0.000000e+00</td>\n",
       "    </tr>\n",
       "    <tr>\n",
       "      <th>3</th>\n",
       "      <td>mths_since_issue_d</td>\n",
       "      <td>-3.356322e-03</td>\n",
       "      <td>0.000000e+00</td>\n",
       "    </tr>\n",
       "    <tr>\n",
       "      <th>4</th>\n",
       "      <td>int_rate</td>\n",
       "      <td>1.010876e-02</td>\n",
       "      <td>0.000000e+00</td>\n",
       "    </tr>\n",
       "    <tr>\n",
       "      <th>5</th>\n",
       "      <td>annual_inc</td>\n",
       "      <td>4.216789e-08</td>\n",
       "      <td>3.546787e-10</td>\n",
       "    </tr>\n",
       "    <tr>\n",
       "      <th>6</th>\n",
       "      <td>mths_since_last_delinq</td>\n",
       "      <td>-2.231608e-04</td>\n",
       "      <td>0.000000e+00</td>\n",
       "    </tr>\n",
       "    <tr>\n",
       "      <th>7</th>\n",
       "      <td>grade:A</td>\n",
       "      <td>2.921558e-02</td>\n",
       "      <td>0.000000e+00</td>\n",
       "    </tr>\n",
       "    <tr>\n",
       "      <th>8</th>\n",
       "      <td>grade:B</td>\n",
       "      <td>2.334898e-02</td>\n",
       "      <td>0.000000e+00</td>\n",
       "    </tr>\n",
       "    <tr>\n",
       "      <th>9</th>\n",
       "      <td>grade:C</td>\n",
       "      <td>2.350600e-02</td>\n",
       "      <td>0.000000e+00</td>\n",
       "    </tr>\n",
       "    <tr>\n",
       "      <th>10</th>\n",
       "      <td>grade:D</td>\n",
       "      <td>2.146034e-02</td>\n",
       "      <td>0.000000e+00</td>\n",
       "    </tr>\n",
       "    <tr>\n",
       "      <th>11</th>\n",
       "      <td>grade:E</td>\n",
       "      <td>1.332872e-02</td>\n",
       "      <td>3.971432e-07</td>\n",
       "    </tr>\n",
       "    <tr>\n",
       "      <th>12</th>\n",
       "      <td>grade:F</td>\n",
       "      <td>4.703404e-03</td>\n",
       "      <td>1.482882e-01</td>\n",
       "    </tr>\n",
       "    <tr>\n",
       "      <th>13</th>\n",
       "      <td>home_ownership:OWN</td>\n",
       "      <td>3.099962e-03</td>\n",
       "      <td>2.708086e-02</td>\n",
       "    </tr>\n",
       "    <tr>\n",
       "      <th>14</th>\n",
       "      <td>home_ownership:MORTGAGE</td>\n",
       "      <td>3.818500e-04</td>\n",
       "      <td>6.766153e-01</td>\n",
       "    </tr>\n",
       "  </tbody>\n",
       "</table>\n",
       "</div>"
      ],
      "text/plain": [
       "               Feature name  Coefficients      p_values\n",
       "0                 Intercept  4.580041e-01           NaN\n",
       "1                  term_int  4.607010e-03  0.000000e+00\n",
       "2            emp_length_int -1.527948e-03  0.000000e+00\n",
       "3        mths_since_issue_d -3.356322e-03  0.000000e+00\n",
       "4                  int_rate  1.010876e-02  0.000000e+00\n",
       "5                annual_inc  4.216789e-08  3.546787e-10\n",
       "6    mths_since_last_delinq -2.231608e-04  0.000000e+00\n",
       "7                   grade:A  2.921558e-02  0.000000e+00\n",
       "8                   grade:B  2.334898e-02  0.000000e+00\n",
       "9                   grade:C  2.350600e-02  0.000000e+00\n",
       "10                  grade:D  2.146034e-02  0.000000e+00\n",
       "11                  grade:E  1.332872e-02  3.971432e-07\n",
       "12                  grade:F  4.703404e-03  1.482882e-01\n",
       "13       home_ownership:OWN  3.099962e-03  2.708086e-02\n",
       "14  home_ownership:MORTGAGE  3.818500e-04  6.766153e-01"
      ]
     },
     "execution_count": 81,
     "metadata": {},
     "output_type": "execute_result"
    }
   ],
   "source": [
    "summary_table = pd.DataFrame(columns = ['Feature name'], data = feature_name)\n",
    "summary_table['Coefficients'] = np.transpose(reg_ead.coef_)\n",
    "# add intercept\n",
    "summary_table.index = summary_table.index + 1\n",
    "summary_table.loc[0] = ['Intercept', reg_ead.intercept_]\n",
    "summary_table = summary_table.sort_index()\n",
    "# add p-values\n",
    "p_values = reg_ead.p\n",
    "p_values = np.append(np.nan, np.array(p_values))\n",
    "summary_table['p_values'] = p_values\n",
    "summary_table"
   ]
  },
  {
   "cell_type": "markdown",
   "id": "19bcda79",
   "metadata": {},
   "source": [
    "Higher CCF indicates higher amount of exposure to default."
   ]
  },
  {
   "cell_type": "markdown",
   "id": "6c13f7f7",
   "metadata": {},
   "source": [
    "## Model Validation"
   ]
  },
  {
   "cell_type": "code",
   "execution_count": 82,
   "id": "00f80f4f",
   "metadata": {},
   "outputs": [],
   "source": [
    "ead_inputs_test = ead_inputs_test[features_all]"
   ]
  },
  {
   "cell_type": "code",
   "execution_count": 83,
   "id": "38244990",
   "metadata": {},
   "outputs": [],
   "source": [
    "ead_inputs_test = ead_inputs_test.drop(features_reference_cat, axis = 1)"
   ]
  },
  {
   "cell_type": "code",
   "execution_count": 84,
   "id": "5ef77853",
   "metadata": {},
   "outputs": [],
   "source": [
    "y_hat_test_ead = reg_ead.predict(ead_inputs_test)"
   ]
  },
  {
   "cell_type": "markdown",
   "id": "7795ee70",
   "metadata": {},
   "source": [
    "### Correlation Check"
   ]
  },
  {
   "cell_type": "code",
   "execution_count": 85,
   "id": "4467868d",
   "metadata": {},
   "outputs": [],
   "source": [
    "ead_targets_test_temp = ead_targets_test\n",
    "ead_targets_test_temp = ead_targets_test_temp.reset_index(drop = True)"
   ]
  },
  {
   "cell_type": "code",
   "execution_count": 86,
   "id": "5549393c",
   "metadata": {
    "scrolled": true
   },
   "outputs": [
    {
     "data": {
      "text/html": [
       "<div>\n",
       "<style scoped>\n",
       "    .dataframe tbody tr th:only-of-type {\n",
       "        vertical-align: middle;\n",
       "    }\n",
       "\n",
       "    .dataframe tbody tr th {\n",
       "        vertical-align: top;\n",
       "    }\n",
       "\n",
       "    .dataframe thead th {\n",
       "        text-align: right;\n",
       "    }\n",
       "</style>\n",
       "<table border=\"1\" class=\"dataframe\">\n",
       "  <thead>\n",
       "    <tr style=\"text-align: right;\">\n",
       "      <th></th>\n",
       "      <th>CCF</th>\n",
       "      <th>0</th>\n",
       "    </tr>\n",
       "  </thead>\n",
       "  <tbody>\n",
       "    <tr>\n",
       "      <th>CCF</th>\n",
       "      <td>1.000000</td>\n",
       "      <td>0.464911</td>\n",
       "    </tr>\n",
       "    <tr>\n",
       "      <th>0</th>\n",
       "      <td>0.464911</td>\n",
       "      <td>1.000000</td>\n",
       "    </tr>\n",
       "  </tbody>\n",
       "</table>\n",
       "</div>"
      ],
      "text/plain": [
       "          CCF         0\n",
       "CCF  1.000000  0.464911\n",
       "0    0.464911  1.000000"
      ]
     },
     "execution_count": 86,
     "metadata": {},
     "output_type": "execute_result"
    }
   ],
   "source": [
    "# getting correlations\n",
    "pd.concat([ead_targets_test_temp,\n",
    "           pd.DataFrame(y_hat_test_ead)], axis = 1).corr()"
   ]
  },
  {
   "cell_type": "markdown",
   "id": "b8805ef6",
   "metadata": {},
   "source": [
    "Moderate positive correlation between actual and predicted values. Good for an EAD model."
   ]
  },
  {
   "cell_type": "markdown",
   "id": "c979af23",
   "metadata": {},
   "source": [
    "### Normality Check"
   ]
  },
  {
   "cell_type": "code",
   "execution_count": 87,
   "id": "8ba99391",
   "metadata": {},
   "outputs": [
    {
     "name": "stderr",
     "output_type": "stream",
     "text": [
      "C:\\ProgramData\\Anaconda3\\lib\\site-packages\\seaborn\\distributions.py:2619: FutureWarning: `distplot` is a deprecated function and will be removed in a future version. Please adapt your code to use either `displot` (a figure-level function with similar flexibility) or `histplot` (an axes-level function for histograms).\n",
      "  warnings.warn(msg, FutureWarning)\n"
     ]
    },
    {
     "data": {
      "text/plain": [
       "<AxesSubplot:xlabel='CCF', ylabel='Density'>"
      ]
     },
     "execution_count": 87,
     "metadata": {},
     "output_type": "execute_result"
    },
    {
     "data": {
      "image/png": "[encoded data removed]",
      "text/plain": [
       "<Figure size 432x288 with 1 Axes>"
      ]
     },
     "metadata": {},
     "output_type": "display_data"
    }
   ],
   "source": [
    "# plotting the residuals\n",
    "sns.distplot(ead_targets_test - y_hat_test_ead)"
   ]
  },
  {
   "cell_type": "markdown",
   "id": "99610be8",
   "metadata": {},
   "source": [
    "The distribution resembles a normal distribution. Most of the residuals are symmetrically distributed around 0."
   ]
  },
  {
   "cell_type": "markdown",
   "id": "f0698777",
   "metadata": {},
   "source": [
    "### Cap Predicted Values [0, 1]"
   ]
  },
  {
   "cell_type": "code",
   "execution_count": 88,
   "id": "36eda9fb",
   "metadata": {},
   "outputs": [
    {
     "data": {
      "text/html": [
       "<div>\n",
       "<style scoped>\n",
       "    .dataframe tbody tr th:only-of-type {\n",
       "        vertical-align: middle;\n",
       "    }\n",
       "\n",
       "    .dataframe tbody tr th {\n",
       "        vertical-align: top;\n",
       "    }\n",
       "\n",
       "    .dataframe thead th {\n",
       "        text-align: right;\n",
       "    }\n",
       "</style>\n",
       "<table border=\"1\" class=\"dataframe\">\n",
       "  <thead>\n",
       "    <tr style=\"text-align: right;\">\n",
       "      <th></th>\n",
       "      <th>0</th>\n",
       "    </tr>\n",
       "  </thead>\n",
       "  <tbody>\n",
       "    <tr>\n",
       "      <th>count</th>\n",
       "      <td>52484.000000</td>\n",
       "    </tr>\n",
       "    <tr>\n",
       "      <th>mean</th>\n",
       "      <td>0.698227</td>\n",
       "    </tr>\n",
       "    <tr>\n",
       "      <th>std</th>\n",
       "      <td>0.103053</td>\n",
       "    </tr>\n",
       "    <tr>\n",
       "      <th>min</th>\n",
       "      <td>0.270757</td>\n",
       "    </tr>\n",
       "    <tr>\n",
       "      <th>25%</th>\n",
       "      <td>0.626167</td>\n",
       "    </tr>\n",
       "    <tr>\n",
       "      <th>50%</th>\n",
       "      <td>0.694267</td>\n",
       "    </tr>\n",
       "    <tr>\n",
       "      <th>75%</th>\n",
       "      <td>0.768303</td>\n",
       "    </tr>\n",
       "    <tr>\n",
       "      <th>max</th>\n",
       "      <td>1.028601</td>\n",
       "    </tr>\n",
       "  </tbody>\n",
       "</table>\n",
       "</div>"
      ],
      "text/plain": [
       "                  0\n",
       "count  52484.000000\n",
       "mean       0.698227\n",
       "std        0.103053\n",
       "min        0.270757\n",
       "25%        0.626167\n",
       "50%        0.694267\n",
       "75%        0.768303\n",
       "max        1.028601"
      ]
     },
     "execution_count": 88,
     "metadata": {},
     "output_type": "execute_result"
    }
   ],
   "source": [
    "pd.DataFrame(y_hat_test_ead).describe()"
   ]
  },
  {
   "cell_type": "code",
   "execution_count": 89,
   "id": "0b687c60",
   "metadata": {},
   "outputs": [],
   "source": [
    "y_hat_test_ead = np.where(y_hat_test_ead < 0, 0, y_hat_test_ead)\n",
    "y_hat_test_ead = np.where(y_hat_test_ead > 1, 1, y_hat_test_ead)"
   ]
  },
  {
   "cell_type": "code",
   "execution_count": 90,
   "id": "22f58176",
   "metadata": {},
   "outputs": [
    {
     "data": {
      "text/html": [
       "<div>\n",
       "<style scoped>\n",
       "    .dataframe tbody tr th:only-of-type {\n",
       "        vertical-align: middle;\n",
       "    }\n",
       "\n",
       "    .dataframe tbody tr th {\n",
       "        vertical-align: top;\n",
       "    }\n",
       "\n",
       "    .dataframe thead th {\n",
       "        text-align: right;\n",
       "    }\n",
       "</style>\n",
       "<table border=\"1\" class=\"dataframe\">\n",
       "  <thead>\n",
       "    <tr style=\"text-align: right;\">\n",
       "      <th></th>\n",
       "      <th>0</th>\n",
       "    </tr>\n",
       "  </thead>\n",
       "  <tbody>\n",
       "    <tr>\n",
       "      <th>count</th>\n",
       "      <td>52484.000000</td>\n",
       "    </tr>\n",
       "    <tr>\n",
       "      <th>mean</th>\n",
       "      <td>0.698222</td>\n",
       "    </tr>\n",
       "    <tr>\n",
       "      <th>std</th>\n",
       "      <td>0.103038</td>\n",
       "    </tr>\n",
       "    <tr>\n",
       "      <th>min</th>\n",
       "      <td>0.270757</td>\n",
       "    </tr>\n",
       "    <tr>\n",
       "      <th>25%</th>\n",
       "      <td>0.626167</td>\n",
       "    </tr>\n",
       "    <tr>\n",
       "      <th>50%</th>\n",
       "      <td>0.694267</td>\n",
       "    </tr>\n",
       "    <tr>\n",
       "      <th>75%</th>\n",
       "      <td>0.768303</td>\n",
       "    </tr>\n",
       "    <tr>\n",
       "      <th>max</th>\n",
       "      <td>1.000000</td>\n",
       "    </tr>\n",
       "  </tbody>\n",
       "</table>\n",
       "</div>"
      ],
      "text/plain": [
       "                  0\n",
       "count  52484.000000\n",
       "mean       0.698222\n",
       "std        0.103038\n",
       "min        0.270757\n",
       "25%        0.626167\n",
       "50%        0.694267\n",
       "75%        0.768303\n",
       "max        1.000000"
      ]
     },
     "execution_count": 90,
     "metadata": {},
     "output_type": "execute_result"
    }
   ],
   "source": [
    "pd.DataFrame(y_hat_test_ead).describe()"
   ]
  },
  {
   "cell_type": "markdown",
   "id": "8ac73daa",
   "metadata": {},
   "source": [
    "# Calculate Expected Loss"
   ]
  },
  {
   "cell_type": "code",
   "execution_count": 91,
   "id": "87797c73",
   "metadata": {
    "scrolled": true
   },
   "outputs": [
    {
     "data": {
      "text/html": [
       "<div>\n",
       "<style scoped>\n",
       "    .dataframe tbody tr th:only-of-type {\n",
       "        vertical-align: middle;\n",
       "    }\n",
       "\n",
       "    .dataframe tbody tr th {\n",
       "        vertical-align: top;\n",
       "    }\n",
       "\n",
       "    .dataframe thead th {\n",
       "        text-align: right;\n",
       "    }\n",
       "</style>\n",
       "<table border=\"1\" class=\"dataframe\">\n",
       "  <thead>\n",
       "    <tr style=\"text-align: right;\">\n",
       "      <th></th>\n",
       "      <th>Unnamed: 0</th>\n",
       "      <th>id</th>\n",
       "      <th>member_id</th>\n",
       "      <th>loan_amnt</th>\n",
       "      <th>funded_amnt</th>\n",
       "      <th>funded_amnt_inv</th>\n",
       "      <th>term</th>\n",
       "      <th>int_rate</th>\n",
       "      <th>installment</th>\n",
       "      <th>grade</th>\n",
       "      <th>...</th>\n",
       "      <th>addr_state:TX</th>\n",
       "      <th>addr_state:UT</th>\n",
       "      <th>addr_state:VA</th>\n",
       "      <th>addr_state:VT</th>\n",
       "      <th>addr_state:WA</th>\n",
       "      <th>addr_state:WI</th>\n",
       "      <th>addr_state:WV</th>\n",
       "      <th>addr_state:WY</th>\n",
       "      <th>initial_list_status:f</th>\n",
       "      <th>initial_list_status:w</th>\n",
       "    </tr>\n",
       "  </thead>\n",
       "  <tbody>\n",
       "    <tr>\n",
       "      <th>0</th>\n",
       "      <td>0</td>\n",
       "      <td>NaN</td>\n",
       "      <td>NaN</td>\n",
       "      <td>2500</td>\n",
       "      <td>2500</td>\n",
       "      <td>2500.0</td>\n",
       "      <td>36 months</td>\n",
       "      <td>13.56</td>\n",
       "      <td>84.92</td>\n",
       "      <td>C</td>\n",
       "      <td>...</td>\n",
       "      <td>0</td>\n",
       "      <td>0</td>\n",
       "      <td>0</td>\n",
       "      <td>0</td>\n",
       "      <td>0</td>\n",
       "      <td>0</td>\n",
       "      <td>0</td>\n",
       "      <td>0</td>\n",
       "      <td>0</td>\n",
       "      <td>1</td>\n",
       "    </tr>\n",
       "    <tr>\n",
       "      <th>1</th>\n",
       "      <td>1</td>\n",
       "      <td>NaN</td>\n",
       "      <td>NaN</td>\n",
       "      <td>30000</td>\n",
       "      <td>30000</td>\n",
       "      <td>30000.0</td>\n",
       "      <td>60 months</td>\n",
       "      <td>18.94</td>\n",
       "      <td>777.23</td>\n",
       "      <td>D</td>\n",
       "      <td>...</td>\n",
       "      <td>0</td>\n",
       "      <td>0</td>\n",
       "      <td>0</td>\n",
       "      <td>0</td>\n",
       "      <td>0</td>\n",
       "      <td>0</td>\n",
       "      <td>0</td>\n",
       "      <td>0</td>\n",
       "      <td>0</td>\n",
       "      <td>1</td>\n",
       "    </tr>\n",
       "    <tr>\n",
       "      <th>2</th>\n",
       "      <td>2</td>\n",
       "      <td>NaN</td>\n",
       "      <td>NaN</td>\n",
       "      <td>5000</td>\n",
       "      <td>5000</td>\n",
       "      <td>5000.0</td>\n",
       "      <td>36 months</td>\n",
       "      <td>17.97</td>\n",
       "      <td>180.69</td>\n",
       "      <td>D</td>\n",
       "      <td>...</td>\n",
       "      <td>0</td>\n",
       "      <td>0</td>\n",
       "      <td>0</td>\n",
       "      <td>0</td>\n",
       "      <td>0</td>\n",
       "      <td>0</td>\n",
       "      <td>0</td>\n",
       "      <td>0</td>\n",
       "      <td>0</td>\n",
       "      <td>1</td>\n",
       "    </tr>\n",
       "    <tr>\n",
       "      <th>3</th>\n",
       "      <td>3</td>\n",
       "      <td>NaN</td>\n",
       "      <td>NaN</td>\n",
       "      <td>4000</td>\n",
       "      <td>4000</td>\n",
       "      <td>4000.0</td>\n",
       "      <td>36 months</td>\n",
       "      <td>18.94</td>\n",
       "      <td>146.51</td>\n",
       "      <td>D</td>\n",
       "      <td>...</td>\n",
       "      <td>0</td>\n",
       "      <td>0</td>\n",
       "      <td>0</td>\n",
       "      <td>0</td>\n",
       "      <td>1</td>\n",
       "      <td>0</td>\n",
       "      <td>0</td>\n",
       "      <td>0</td>\n",
       "      <td>0</td>\n",
       "      <td>1</td>\n",
       "    </tr>\n",
       "    <tr>\n",
       "      <th>4</th>\n",
       "      <td>4</td>\n",
       "      <td>NaN</td>\n",
       "      <td>NaN</td>\n",
       "      <td>30000</td>\n",
       "      <td>30000</td>\n",
       "      <td>30000.0</td>\n",
       "      <td>60 months</td>\n",
       "      <td>16.14</td>\n",
       "      <td>731.78</td>\n",
       "      <td>C</td>\n",
       "      <td>...</td>\n",
       "      <td>0</td>\n",
       "      <td>0</td>\n",
       "      <td>0</td>\n",
       "      <td>0</td>\n",
       "      <td>0</td>\n",
       "      <td>0</td>\n",
       "      <td>0</td>\n",
       "      <td>0</td>\n",
       "      <td>0</td>\n",
       "      <td>1</td>\n",
       "    </tr>\n",
       "  </tbody>\n",
       "</table>\n",
       "<p>5 rows × 279 columns</p>\n",
       "</div>"
      ],
      "text/plain": [
       "   Unnamed: 0  id  member_id  loan_amnt  funded_amnt  funded_amnt_inv  \\\n",
       "0           0 NaN        NaN       2500         2500           2500.0   \n",
       "1           1 NaN        NaN      30000        30000          30000.0   \n",
       "2           2 NaN        NaN       5000         5000           5000.0   \n",
       "3           3 NaN        NaN       4000         4000           4000.0   \n",
       "4           4 NaN        NaN      30000        30000          30000.0   \n",
       "\n",
       "         term  int_rate  installment grade  ... addr_state:TX addr_state:UT  \\\n",
       "0   36 months     13.56        84.92     C  ...             0             0   \n",
       "1   60 months     18.94       777.23     D  ...             0             0   \n",
       "2   36 months     17.97       180.69     D  ...             0             0   \n",
       "3   36 months     18.94       146.51     D  ...             0             0   \n",
       "4   60 months     16.14       731.78     C  ...             0             0   \n",
       "\n",
       "  addr_state:VA addr_state:VT  addr_state:WA addr_state:WI addr_state:WV  \\\n",
       "0             0             0              0             0             0   \n",
       "1             0             0              0             0             0   \n",
       "2             0             0              0             0             0   \n",
       "3             0             0              1             0             0   \n",
       "4             0             0              0             0             0   \n",
       "\n",
       "  addr_state:WY initial_list_status:f  initial_list_status:w  \n",
       "0             0                     0                      1  \n",
       "1             0                     0                      1  \n",
       "2             0                     0                      1  \n",
       "3             0                     0                      1  \n",
       "4             0                     0                      1  \n",
       "\n",
       "[5 rows x 279 columns]"
      ]
     },
     "execution_count": 91,
     "metadata": {},
     "output_type": "execute_result"
    }
   ],
   "source": [
    "loan_data_preprocessed.head()"
   ]
  },
  {
   "cell_type": "markdown",
   "id": "867b5ffe",
   "metadata": {},
   "source": [
    "## Independent Variables"
   ]
  },
  {
   "cell_type": "markdown",
   "id": "8fb7ac48",
   "metadata": {},
   "source": [
    "### Impute missing values"
   ]
  },
  {
   "cell_type": "markdown",
   "id": "14ee5e57",
   "metadata": {},
   "source": [
    "In the PD model we created Missing categories for missing values. Here we impute them with 0."
   ]
  },
  {
   "cell_type": "code",
   "execution_count": 92,
   "id": "0fcbf16a",
   "metadata": {},
   "outputs": [],
   "source": [
    "loan_data_preprocessed['mths_since_last_delinq'].fillna(0, inplace = True)"
   ]
  },
  {
   "cell_type": "code",
   "execution_count": 93,
   "id": "d27fba5d",
   "metadata": {},
   "outputs": [],
   "source": [
    "loan_data_preprocessed['mths_since_last_record'].fillna(0, inplace = True)"
   ]
  },
  {
   "cell_type": "markdown",
   "id": "409132ec",
   "metadata": {},
   "source": [
    "### Create dummy variables"
   ]
  },
  {
   "cell_type": "code",
   "execution_count": 94,
   "id": "6725a49b",
   "metadata": {},
   "outputs": [],
   "source": [
    "loan_data_preprocessed['home_ownership:RENT_OTHER_NONE_ANY'] = sum([loan_data_preprocessed['home_ownership:RENT'],\n",
    "                                                    loan_data_preprocessed['home_ownership:OTHER'],\n",
    "                                                    loan_data_preprocessed['home_ownership:NONE'],\n",
    "                                                    loan_data_preprocessed['home_ownership:ANY']])"
   ]
  },
  {
   "cell_type": "markdown",
   "id": "06233ef5",
   "metadata": {},
   "source": [
    "## Predict LGD"
   ]
  },
  {
   "cell_type": "code",
   "execution_count": 95,
   "id": "c56301c0",
   "metadata": {},
   "outputs": [],
   "source": [
    "loan_data_preprocessed_lgd_ead = loan_data_preprocessed[features_all]"
   ]
  },
  {
   "cell_type": "code",
   "execution_count": 96,
   "id": "9a788529",
   "metadata": {},
   "outputs": [],
   "source": [
    "loan_data_preprocessed_lgd_ead = loan_data_preprocessed_lgd_ead.drop(features_reference_cat, axis = 1)"
   ]
  },
  {
   "cell_type": "code",
   "execution_count": 97,
   "id": "f63629da",
   "metadata": {},
   "outputs": [],
   "source": [
    "loan_data_preprocessed['recovery_rate_st_1'] = reg_lgd_st_1.model.predict(loan_data_preprocessed_lgd_ead)"
   ]
  },
  {
   "cell_type": "code",
   "execution_count": 98,
   "id": "25b43601",
   "metadata": {},
   "outputs": [],
   "source": [
    "loan_data_preprocessed['recovery_rate_st_2'] = reg_lgd_st_2.predict(loan_data_preprocessed_lgd_ead)"
   ]
  },
  {
   "cell_type": "code",
   "execution_count": 99,
   "id": "421cbd6c",
   "metadata": {},
   "outputs": [],
   "source": [
    "loan_data_preprocessed['recovery_rate'] = loan_data_preprocessed['recovery_rate_st_1'] * loan_data_preprocessed['recovery_rate_st_2']"
   ]
  },
  {
   "cell_type": "code",
   "execution_count": 100,
   "id": "24a17d71",
   "metadata": {},
   "outputs": [],
   "source": [
    "loan_data_preprocessed['recovery_rate'] = np.where (loan_data_preprocessed['recovery_rate'] < 0, 0, loan_data_preprocessed['recovery_rate'])\n",
    "loan_data_preprocessed['recovery_rate'] = np.where (loan_data_preprocessed['recovery_rate'] > 1, 1, loan_data_preprocessed['recovery_rate'])"
   ]
  },
  {
   "cell_type": "code",
   "execution_count": 101,
   "id": "72a2496e",
   "metadata": {},
   "outputs": [],
   "source": [
    "loan_data_preprocessed['LGD'] = 1 - loan_data_preprocessed['recovery_rate']"
   ]
  },
  {
   "cell_type": "code",
   "execution_count": 102,
   "id": "0400fe26",
   "metadata": {},
   "outputs": [
    {
     "data": {
      "text/plain": [
       "count    2.260668e+06\n",
       "mean     9.255064e-01\n",
       "std      5.153993e-02\n",
       "min      0.000000e+00\n",
       "25%      8.846040e-01\n",
       "50%      9.000973e-01\n",
       "75%      1.000000e+00\n",
       "max      1.000000e+00\n",
       "Name: LGD, dtype: float64"
      ]
     },
     "execution_count": 102,
     "metadata": {},
     "output_type": "execute_result"
    }
   ],
   "source": [
    "loan_data_preprocessed['LGD'].describe()"
   ]
  },
  {
   "cell_type": "markdown",
   "id": "9f61d158",
   "metadata": {},
   "source": [
    "## Predict EAD"
   ]
  },
  {
   "cell_type": "code",
   "execution_count": 103,
   "id": "0c06f6a8",
   "metadata": {},
   "outputs": [],
   "source": [
    "loan_data_preprocessed['CCF'] = reg_ead.predict(loan_data_preprocessed_lgd_ead)"
   ]
  },
  {
   "cell_type": "code",
   "execution_count": 104,
   "id": "b50dc471",
   "metadata": {},
   "outputs": [],
   "source": [
    "loan_data_preprocessed['CCF'] = np.where (loan_data_preprocessed['CCF'] < 0, 0, loan_data_preprocessed['CCF'])\n",
    "loan_data_preprocessed['CCF'] = np.where (loan_data_preprocessed['CCF'] > 1, 1, loan_data_preprocessed['CCF'])"
   ]
  },
  {
   "cell_type": "code",
   "execution_count": 105,
   "id": "1c418661",
   "metadata": {},
   "outputs": [],
   "source": [
    "loan_data_preprocessed['EAD'] = loan_data_preprocessed['CCF'] * loan_data_preprocessed['funded_amnt']"
   ]
  },
  {
   "cell_type": "code",
   "execution_count": 106,
   "id": "35085a3c",
   "metadata": {},
   "outputs": [
    {
     "data": {
      "text/plain": [
       "count    2.260668e+06\n",
       "mean     1.072904e+04\n",
       "std      7.237126e+03\n",
       "min      1.398297e+02\n",
       "25%      5.086949e+03\n",
       "50%      8.952358e+03\n",
       "75%      1.468218e+04\n",
       "max      4.000000e+04\n",
       "Name: EAD, dtype: float64"
      ]
     },
     "execution_count": 106,
     "metadata": {},
     "output_type": "execute_result"
    }
   ],
   "source": [
    "loan_data_preprocessed['EAD'].describe()"
   ]
  },
  {
   "cell_type": "markdown",
   "id": "f8e27f8b",
   "metadata": {},
   "source": [
    "## Predict PD"
   ]
  },
  {
   "cell_type": "markdown",
   "id": "ada7a4d3",
   "metadata": {},
   "source": [
    "Import the split data and merge them"
   ]
  },
  {
   "cell_type": "code",
   "execution_count": 107,
   "id": "ce688ab1",
   "metadata": {},
   "outputs": [
    {
     "name": "stderr",
     "output_type": "stream",
     "text": [
      "C:\\Users\\温泉小鱼汤\\AppData\\Local\\Temp\\ipykernel_10616\\109877312.py:1: DtypeWarning: Columns (124,125,126,129,130,131,134) have mixed types. Specify dtype option on import or set low_memory=False.\n",
      "  loan_data_inputs_train = pd.read_csv(r'C:\\Users\\温泉小鱼汤\\Documents\\BaiduNetdiskWorkspace\\USC\\Credit Risk Modeling\\loan_data_X_train.csv')\n"
     ]
    }
   ],
   "source": [
    "loan_data_inputs_train = pd.read_csv(r'C:\\Users\\温泉小鱼汤\\Documents\\BaiduNetdiskWorkspace\\USC\\Credit Risk Modeling\\loan_data_X_train.csv')\n",
    "loan_data_inputs_test = pd.read_csv(r'C:\\Users\\温泉小鱼汤\\Documents\\BaiduNetdiskWorkspace\\USC\\Credit Risk Modeling\\loan_data_X_test.csv')"
   ]
  },
  {
   "cell_type": "code",
   "execution_count": 108,
   "id": "ea5b173b",
   "metadata": {},
   "outputs": [],
   "source": [
    "loan_data_inputs_pd = pd.concat([loan_data_inputs_train, loan_data_inputs_test], \n",
    "                                axis = 0) # concat by the row: axis = 0"
   ]
  },
  {
   "cell_type": "code",
   "execution_count": 109,
   "id": "54324d4c",
   "metadata": {},
   "outputs": [
    {
     "data": {
      "text/plain": [
       "(2260668, 334)"
      ]
     },
     "execution_count": 109,
     "metadata": {},
     "output_type": "execute_result"
    }
   ],
   "source": [
    "loan_data_inputs_pd.shape"
   ]
  },
  {
   "cell_type": "code",
   "execution_count": 110,
   "id": "912d2f48",
   "metadata": {},
   "outputs": [
    {
     "data": {
      "text/html": [
       "<div>\n",
       "<style scoped>\n",
       "    .dataframe tbody tr th:only-of-type {\n",
       "        vertical-align: middle;\n",
       "    }\n",
       "\n",
       "    .dataframe tbody tr th {\n",
       "        vertical-align: top;\n",
       "    }\n",
       "\n",
       "    .dataframe thead th {\n",
       "        text-align: right;\n",
       "    }\n",
       "</style>\n",
       "<table border=\"1\" class=\"dataframe\">\n",
       "  <thead>\n",
       "    <tr style=\"text-align: right;\">\n",
       "      <th></th>\n",
       "      <th>Unnamed: 0</th>\n",
       "      <th>id</th>\n",
       "      <th>member_id</th>\n",
       "      <th>loan_amnt</th>\n",
       "      <th>funded_amnt</th>\n",
       "      <th>funded_amnt_inv</th>\n",
       "      <th>term</th>\n",
       "      <th>int_rate</th>\n",
       "      <th>installment</th>\n",
       "      <th>grade</th>\n",
       "      <th>...</th>\n",
       "      <th>annual_inc:101k-111k</th>\n",
       "      <th>annual_inc:111k-131k</th>\n",
       "      <th>annual_inc:131k-161k</th>\n",
       "      <th>annual_inc:&gt;161k</th>\n",
       "      <th>mths_since_last_delinq:Missing</th>\n",
       "      <th>mths_since_last_delinq:0-3</th>\n",
       "      <th>mths_since_last_delinq:4-15</th>\n",
       "      <th>mths_since_last_delinq:16-31</th>\n",
       "      <th>mths_since_last_delinq:32-81</th>\n",
       "      <th>mths_since_last_delinq:&gt;82</th>\n",
       "    </tr>\n",
       "  </thead>\n",
       "  <tbody>\n",
       "    <tr>\n",
       "      <th>0</th>\n",
       "      <td>305053</td>\n",
       "      <td>NaN</td>\n",
       "      <td>NaN</td>\n",
       "      <td>14600</td>\n",
       "      <td>14600</td>\n",
       "      <td>14600.0</td>\n",
       "      <td>36 months</td>\n",
       "      <td>21.85</td>\n",
       "      <td>556.45</td>\n",
       "      <td>D</td>\n",
       "      <td>...</td>\n",
       "      <td>0</td>\n",
       "      <td>0</td>\n",
       "      <td>0</td>\n",
       "      <td>0</td>\n",
       "      <td>1</td>\n",
       "      <td>0</td>\n",
       "      <td>0</td>\n",
       "      <td>0</td>\n",
       "      <td>0</td>\n",
       "      <td>0</td>\n",
       "    </tr>\n",
       "    <tr>\n",
       "      <th>1</th>\n",
       "      <td>50247</td>\n",
       "      <td>NaN</td>\n",
       "      <td>NaN</td>\n",
       "      <td>10000</td>\n",
       "      <td>10000</td>\n",
       "      <td>10000.0</td>\n",
       "      <td>60 months</td>\n",
       "      <td>13.56</td>\n",
       "      <td>230.41</td>\n",
       "      <td>C</td>\n",
       "      <td>...</td>\n",
       "      <td>0</td>\n",
       "      <td>0</td>\n",
       "      <td>0</td>\n",
       "      <td>0</td>\n",
       "      <td>1</td>\n",
       "      <td>0</td>\n",
       "      <td>0</td>\n",
       "      <td>0</td>\n",
       "      <td>0</td>\n",
       "      <td>0</td>\n",
       "    </tr>\n",
       "    <tr>\n",
       "      <th>2</th>\n",
       "      <td>1630001</td>\n",
       "      <td>NaN</td>\n",
       "      <td>NaN</td>\n",
       "      <td>20000</td>\n",
       "      <td>20000</td>\n",
       "      <td>20000.0</td>\n",
       "      <td>36 months</td>\n",
       "      <td>12.74</td>\n",
       "      <td>671.38</td>\n",
       "      <td>C</td>\n",
       "      <td>...</td>\n",
       "      <td>0</td>\n",
       "      <td>1</td>\n",
       "      <td>0</td>\n",
       "      <td>0</td>\n",
       "      <td>0</td>\n",
       "      <td>0</td>\n",
       "      <td>0</td>\n",
       "      <td>1</td>\n",
       "      <td>0</td>\n",
       "      <td>0</td>\n",
       "    </tr>\n",
       "    <tr>\n",
       "      <th>3</th>\n",
       "      <td>927626</td>\n",
       "      <td>NaN</td>\n",
       "      <td>NaN</td>\n",
       "      <td>8000</td>\n",
       "      <td>8000</td>\n",
       "      <td>8000.0</td>\n",
       "      <td>36 months</td>\n",
       "      <td>13.49</td>\n",
       "      <td>271.45</td>\n",
       "      <td>C</td>\n",
       "      <td>...</td>\n",
       "      <td>0</td>\n",
       "      <td>0</td>\n",
       "      <td>0</td>\n",
       "      <td>0</td>\n",
       "      <td>0</td>\n",
       "      <td>0</td>\n",
       "      <td>0</td>\n",
       "      <td>1</td>\n",
       "      <td>0</td>\n",
       "      <td>0</td>\n",
       "    </tr>\n",
       "    <tr>\n",
       "      <th>4</th>\n",
       "      <td>758488</td>\n",
       "      <td>NaN</td>\n",
       "      <td>NaN</td>\n",
       "      <td>30000</td>\n",
       "      <td>30000</td>\n",
       "      <td>30000.0</td>\n",
       "      <td>36 months</td>\n",
       "      <td>11.99</td>\n",
       "      <td>996.29</td>\n",
       "      <td>C</td>\n",
       "      <td>...</td>\n",
       "      <td>0</td>\n",
       "      <td>0</td>\n",
       "      <td>0</td>\n",
       "      <td>0</td>\n",
       "      <td>1</td>\n",
       "      <td>0</td>\n",
       "      <td>0</td>\n",
       "      <td>0</td>\n",
       "      <td>0</td>\n",
       "      <td>0</td>\n",
       "    </tr>\n",
       "  </tbody>\n",
       "</table>\n",
       "<p>5 rows × 334 columns</p>\n",
       "</div>"
      ],
      "text/plain": [
       "   Unnamed: 0  id  member_id  loan_amnt  funded_amnt  funded_amnt_inv  \\\n",
       "0      305053 NaN        NaN      14600        14600          14600.0   \n",
       "1       50247 NaN        NaN      10000        10000          10000.0   \n",
       "2     1630001 NaN        NaN      20000        20000          20000.0   \n",
       "3      927626 NaN        NaN       8000         8000           8000.0   \n",
       "4      758488 NaN        NaN      30000        30000          30000.0   \n",
       "\n",
       "         term  int_rate  installment grade  ... annual_inc:101k-111k  \\\n",
       "0   36 months     21.85       556.45     D  ...                    0   \n",
       "1   60 months     13.56       230.41     C  ...                    0   \n",
       "2   36 months     12.74       671.38     C  ...                    0   \n",
       "3   36 months     13.49       271.45     C  ...                    0   \n",
       "4   36 months     11.99       996.29     C  ...                    0   \n",
       "\n",
       "  annual_inc:111k-131k annual_inc:131k-161k annual_inc:>161k  \\\n",
       "0                    0                    0                0   \n",
       "1                    0                    0                0   \n",
       "2                    1                    0                0   \n",
       "3                    0                    0                0   \n",
       "4                    0                    0                0   \n",
       "\n",
       "   mths_since_last_delinq:Missing mths_since_last_delinq:0-3  \\\n",
       "0                               1                          0   \n",
       "1                               1                          0   \n",
       "2                               0                          0   \n",
       "3                               0                          0   \n",
       "4                               1                          0   \n",
       "\n",
       "  mths_since_last_delinq:4-15 mths_since_last_delinq:16-31  \\\n",
       "0                           0                            0   \n",
       "1                           0                            0   \n",
       "2                           0                            1   \n",
       "3                           0                            1   \n",
       "4                           0                            0   \n",
       "\n",
       "  mths_since_last_delinq:32-81  mths_since_last_delinq:>82  \n",
       "0                            0                           0  \n",
       "1                            0                           0  \n",
       "2                            0                           0  \n",
       "3                            0                           0  \n",
       "4                            0                           0  \n",
       "\n",
       "[5 rows x 334 columns]"
      ]
     },
     "execution_count": 110,
     "metadata": {},
     "output_type": "execute_result"
    }
   ],
   "source": [
    "loan_data_inputs_pd.head()"
   ]
  },
  {
   "cell_type": "code",
   "execution_count": 111,
   "id": "efe7a372",
   "metadata": {},
   "outputs": [],
   "source": [
    "# restore the orginal index prior to the train test split\n",
    "loan_data_inputs_pd = loan_data_inputs_pd.set_index('Unnamed: 0')"
   ]
  },
  {
   "cell_type": "code",
   "execution_count": 112,
   "id": "22e49769",
   "metadata": {},
   "outputs": [
    {
     "data": {
      "text/html": [
       "<div>\n",
       "<style scoped>\n",
       "    .dataframe tbody tr th:only-of-type {\n",
       "        vertical-align: middle;\n",
       "    }\n",
       "\n",
       "    .dataframe tbody tr th {\n",
       "        vertical-align: top;\n",
       "    }\n",
       "\n",
       "    .dataframe thead th {\n",
       "        text-align: right;\n",
       "    }\n",
       "</style>\n",
       "<table border=\"1\" class=\"dataframe\">\n",
       "  <thead>\n",
       "    <tr style=\"text-align: right;\">\n",
       "      <th></th>\n",
       "      <th>id</th>\n",
       "      <th>member_id</th>\n",
       "      <th>loan_amnt</th>\n",
       "      <th>funded_amnt</th>\n",
       "      <th>funded_amnt_inv</th>\n",
       "      <th>term</th>\n",
       "      <th>int_rate</th>\n",
       "      <th>installment</th>\n",
       "      <th>grade</th>\n",
       "      <th>sub_grade</th>\n",
       "      <th>...</th>\n",
       "      <th>annual_inc:101k-111k</th>\n",
       "      <th>annual_inc:111k-131k</th>\n",
       "      <th>annual_inc:131k-161k</th>\n",
       "      <th>annual_inc:&gt;161k</th>\n",
       "      <th>mths_since_last_delinq:Missing</th>\n",
       "      <th>mths_since_last_delinq:0-3</th>\n",
       "      <th>mths_since_last_delinq:4-15</th>\n",
       "      <th>mths_since_last_delinq:16-31</th>\n",
       "      <th>mths_since_last_delinq:32-81</th>\n",
       "      <th>mths_since_last_delinq:&gt;82</th>\n",
       "    </tr>\n",
       "    <tr>\n",
       "      <th>Unnamed: 0</th>\n",
       "      <th></th>\n",
       "      <th></th>\n",
       "      <th></th>\n",
       "      <th></th>\n",
       "      <th></th>\n",
       "      <th></th>\n",
       "      <th></th>\n",
       "      <th></th>\n",
       "      <th></th>\n",
       "      <th></th>\n",
       "      <th></th>\n",
       "      <th></th>\n",
       "      <th></th>\n",
       "      <th></th>\n",
       "      <th></th>\n",
       "      <th></th>\n",
       "      <th></th>\n",
       "      <th></th>\n",
       "      <th></th>\n",
       "      <th></th>\n",
       "      <th></th>\n",
       "    </tr>\n",
       "  </thead>\n",
       "  <tbody>\n",
       "    <tr>\n",
       "      <th>305053</th>\n",
       "      <td>NaN</td>\n",
       "      <td>NaN</td>\n",
       "      <td>14600</td>\n",
       "      <td>14600</td>\n",
       "      <td>14600.0</td>\n",
       "      <td>36 months</td>\n",
       "      <td>21.85</td>\n",
       "      <td>556.45</td>\n",
       "      <td>D</td>\n",
       "      <td>D5</td>\n",
       "      <td>...</td>\n",
       "      <td>0</td>\n",
       "      <td>0</td>\n",
       "      <td>0</td>\n",
       "      <td>0</td>\n",
       "      <td>1</td>\n",
       "      <td>0</td>\n",
       "      <td>0</td>\n",
       "      <td>0</td>\n",
       "      <td>0</td>\n",
       "      <td>0</td>\n",
       "    </tr>\n",
       "    <tr>\n",
       "      <th>50247</th>\n",
       "      <td>NaN</td>\n",
       "      <td>NaN</td>\n",
       "      <td>10000</td>\n",
       "      <td>10000</td>\n",
       "      <td>10000.0</td>\n",
       "      <td>60 months</td>\n",
       "      <td>13.56</td>\n",
       "      <td>230.41</td>\n",
       "      <td>C</td>\n",
       "      <td>C1</td>\n",
       "      <td>...</td>\n",
       "      <td>0</td>\n",
       "      <td>0</td>\n",
       "      <td>0</td>\n",
       "      <td>0</td>\n",
       "      <td>1</td>\n",
       "      <td>0</td>\n",
       "      <td>0</td>\n",
       "      <td>0</td>\n",
       "      <td>0</td>\n",
       "      <td>0</td>\n",
       "    </tr>\n",
       "    <tr>\n",
       "      <th>1630001</th>\n",
       "      <td>NaN</td>\n",
       "      <td>NaN</td>\n",
       "      <td>20000</td>\n",
       "      <td>20000</td>\n",
       "      <td>20000.0</td>\n",
       "      <td>36 months</td>\n",
       "      <td>12.74</td>\n",
       "      <td>671.38</td>\n",
       "      <td>C</td>\n",
       "      <td>C1</td>\n",
       "      <td>...</td>\n",
       "      <td>0</td>\n",
       "      <td>1</td>\n",
       "      <td>0</td>\n",
       "      <td>0</td>\n",
       "      <td>0</td>\n",
       "      <td>0</td>\n",
       "      <td>0</td>\n",
       "      <td>1</td>\n",
       "      <td>0</td>\n",
       "      <td>0</td>\n",
       "    </tr>\n",
       "    <tr>\n",
       "      <th>927626</th>\n",
       "      <td>NaN</td>\n",
       "      <td>NaN</td>\n",
       "      <td>8000</td>\n",
       "      <td>8000</td>\n",
       "      <td>8000.0</td>\n",
       "      <td>36 months</td>\n",
       "      <td>13.49</td>\n",
       "      <td>271.45</td>\n",
       "      <td>C</td>\n",
       "      <td>C2</td>\n",
       "      <td>...</td>\n",
       "      <td>0</td>\n",
       "      <td>0</td>\n",
       "      <td>0</td>\n",
       "      <td>0</td>\n",
       "      <td>0</td>\n",
       "      <td>0</td>\n",
       "      <td>0</td>\n",
       "      <td>1</td>\n",
       "      <td>0</td>\n",
       "      <td>0</td>\n",
       "    </tr>\n",
       "    <tr>\n",
       "      <th>758488</th>\n",
       "      <td>NaN</td>\n",
       "      <td>NaN</td>\n",
       "      <td>30000</td>\n",
       "      <td>30000</td>\n",
       "      <td>30000.0</td>\n",
       "      <td>36 months</td>\n",
       "      <td>11.99</td>\n",
       "      <td>996.29</td>\n",
       "      <td>C</td>\n",
       "      <td>C1</td>\n",
       "      <td>...</td>\n",
       "      <td>0</td>\n",
       "      <td>0</td>\n",
       "      <td>0</td>\n",
       "      <td>0</td>\n",
       "      <td>1</td>\n",
       "      <td>0</td>\n",
       "      <td>0</td>\n",
       "      <td>0</td>\n",
       "      <td>0</td>\n",
       "      <td>0</td>\n",
       "    </tr>\n",
       "  </tbody>\n",
       "</table>\n",
       "<p>5 rows × 333 columns</p>\n",
       "</div>"
      ],
      "text/plain": [
       "            id  member_id  loan_amnt  funded_amnt  funded_amnt_inv  \\\n",
       "Unnamed: 0                                                           \n",
       "305053     NaN        NaN      14600        14600          14600.0   \n",
       "50247      NaN        NaN      10000        10000          10000.0   \n",
       "1630001    NaN        NaN      20000        20000          20000.0   \n",
       "927626     NaN        NaN       8000         8000           8000.0   \n",
       "758488     NaN        NaN      30000        30000          30000.0   \n",
       "\n",
       "                  term  int_rate  installment grade sub_grade  ...  \\\n",
       "Unnamed: 0                                                     ...   \n",
       "305053       36 months     21.85       556.45     D        D5  ...   \n",
       "50247        60 months     13.56       230.41     C        C1  ...   \n",
       "1630001      36 months     12.74       671.38     C        C1  ...   \n",
       "927626       36 months     13.49       271.45     C        C2  ...   \n",
       "758488       36 months     11.99       996.29     C        C1  ...   \n",
       "\n",
       "           annual_inc:101k-111k annual_inc:111k-131k annual_inc:131k-161k  \\\n",
       "Unnamed: 0                                                                  \n",
       "305053                        0                    0                    0   \n",
       "50247                         0                    0                    0   \n",
       "1630001                       0                    1                    0   \n",
       "927626                        0                    0                    0   \n",
       "758488                        0                    0                    0   \n",
       "\n",
       "            annual_inc:>161k mths_since_last_delinq:Missing  \\\n",
       "Unnamed: 0                                                    \n",
       "305053                     0                              1   \n",
       "50247                      0                              1   \n",
       "1630001                    0                              0   \n",
       "927626                     0                              0   \n",
       "758488                     0                              1   \n",
       "\n",
       "           mths_since_last_delinq:0-3 mths_since_last_delinq:4-15  \\\n",
       "Unnamed: 0                                                          \n",
       "305053                              0                           0   \n",
       "50247                               0                           0   \n",
       "1630001                             0                           0   \n",
       "927626                              0                           0   \n",
       "758488                              0                           0   \n",
       "\n",
       "           mths_since_last_delinq:16-31  mths_since_last_delinq:32-81  \\\n",
       "Unnamed: 0                                                              \n",
       "305053                                0                             0   \n",
       "50247                                 0                             0   \n",
       "1630001                               1                             0   \n",
       "927626                                1                             0   \n",
       "758488                                0                             0   \n",
       "\n",
       "           mths_since_last_delinq:>82  \n",
       "Unnamed: 0                             \n",
       "305053                              0  \n",
       "50247                               0  \n",
       "1630001                             0  \n",
       "927626                              0  \n",
       "758488                              0  \n",
       "\n",
       "[5 rows x 333 columns]"
      ]
     },
     "execution_count": 112,
     "metadata": {},
     "output_type": "execute_result"
    }
   ],
   "source": [
    "loan_data_inputs_pd.head()"
   ]
  },
  {
   "cell_type": "code",
   "execution_count": 113,
   "id": "d736e53d",
   "metadata": {},
   "outputs": [],
   "source": [
    "features_all_pd = [\n",
    "    'term:36',\n",
    "    'term:60',\n",
    "    'emp_length:0',\n",
    "    'emp_length:1',\n",
    "    'emp_length:2-6',\n",
    "    'emp_length:7-9',\n",
    "    'emp_length:10',\n",
    "    'mths_since_issue_d:<4',\n",
    "    'mths_since_issue_d:4-6',\n",
    "    'mths_since_issue_d:7-9',\n",
    "    'mths_since_issue_d:10-12',\n",
    "    'mths_since_issue_d:13-14',\n",
    "    'mths_since_issue_d:15-17',\n",
    "    'mths_since_issue_d:18-23',\n",
    "    'mths_since_issue_d:24-28',\n",
    "    'mths_since_issue_d:29-58',\n",
    "    'mths_since_issue_d:59-75',\n",
    "    'mths_since_issue_d:76-86',\n",
    "    'mths_since_issue_d:87-125',\n",
    "    'mths_since_issue_d:>126',\n",
    "    'int_rate:<7.878',\n",
    "    'int_rate:7.878-10.96',\n",
    "    'int_rate:10.96-13.014',\n",
    "    'int_rate:13.014-15.068',\n",
    "    'int_rate:15.068-20.718',\n",
    "    'int_rate:>20.718',\n",
    "    'annual_inc:<10k',\n",
    "    'annual_inc:10k-45k',\n",
    "    'annual_inc:45k-55k',\n",
    "    'annual_inc:55k-60k',\n",
    "    'annual_inc:60k-70k',\n",
    "    'annual_inc:70k-85k',\n",
    "    'annual_inc:85k-101k',\n",
    "    'annual_inc:101k-111k',\n",
    "    'annual_inc:111k-131k',\n",
    "    'annual_inc:131k-161k',\n",
    "    'annual_inc:>161k',\n",
    "    'mths_since_last_delinq:Missing',\n",
    "    'mths_since_last_delinq:0-3',\n",
    "    'mths_since_last_delinq:4-15',\n",
    "    'mths_since_last_delinq:16-31',\n",
    "    'mths_since_last_delinq:32-81',\n",
    "    'mths_since_last_delinq:>82',\n",
    "    'grade:A',\n",
    "    'grade:B',\n",
    "    'grade:C',\n",
    "    'grade:D',\n",
    "    'grade:E',\n",
    "    'grade:F',\n",
    "    'grade:G',\n",
    "    'home_ownership:RENT_OTHER_NONE_ANY',\n",
    "    'home_ownership:OWN',\n",
    "    'home_ownership:MORTGAGE',\n",
    "    'addr_state:NV_NM_HI_SD',\n",
    "    'addr_state:MO_MD_NC',\n",
    "    'addr_state:PA_KY_TN',\n",
    "    'addr_state:NJ_MI_IN',\n",
    "    'addr_state:VA_MN_AK',\n",
    "    'addr_state:AZ_NE_OH',\n",
    "    'addr_state:DE_MA_UT_WI',\n",
    "    'addr_state:GA_RI_WY_IL_MT_KS'\n",
    "]"
   ]
  },
  {
   "cell_type": "code",
   "execution_count": 114,
   "id": "32f6286c",
   "metadata": {},
   "outputs": [],
   "source": [
    "ref_categories_pd = [\n",
    "    'term:60',\n",
    "    'emp_length:0',\n",
    "    'mths_since_issue_d:>126',\n",
    "    'int_rate:>20.718',\n",
    "    'annual_inc:10k-45k',\n",
    "    'mths_since_last_delinq:0-3',\n",
    "    'grade:G',\n",
    "    'home_ownership:RENT_OTHER_NONE_ANY',\n",
    "    'addr_state:NV_NM_HI_SD' \n",
    "]"
   ]
  },
  {
   "cell_type": "code",
   "execution_count": 115,
   "id": "8415a05a",
   "metadata": {},
   "outputs": [],
   "source": [
    "loan_data_inputs_pd_temp = loan_data_inputs_pd[features_all_pd]"
   ]
  },
  {
   "cell_type": "code",
   "execution_count": 116,
   "id": "e0193df9",
   "metadata": {},
   "outputs": [],
   "source": [
    "loan_data_inputs_pd_temp = loan_data_inputs_pd_temp.drop(ref_categories_pd, axis = 1)"
   ]
  },
  {
   "cell_type": "code",
   "execution_count": 117,
   "id": "1619bc35",
   "metadata": {},
   "outputs": [
    {
     "data": {
      "text/plain": [
       "(2260668, 52)"
      ]
     },
     "execution_count": 117,
     "metadata": {},
     "output_type": "execute_result"
    }
   ],
   "source": [
    "loan_data_inputs_pd_temp.shape"
   ]
  },
  {
   "cell_type": "code",
   "execution_count": 118,
   "id": "adca0b8c",
   "metadata": {},
   "outputs": [],
   "source": [
    "import pickle"
   ]
  },
  {
   "cell_type": "code",
   "execution_count": 119,
   "id": "5e483322",
   "metadata": {},
   "outputs": [],
   "source": [
    "reg_pd = pickle.load(open('pd_model.sav', 'rb'))"
   ]
  },
  {
   "cell_type": "code",
   "execution_count": 120,
   "id": "c710628b",
   "metadata": {},
   "outputs": [
    {
     "data": {
      "text/plain": [
       "array([0.08071551, 0.00716024, 0.08271467, ..., 0.03074793, 0.0695608 ,\n",
       "       0.12983947])"
      ]
     },
     "execution_count": 120,
     "metadata": {},
     "output_type": "execute_result"
    }
   ],
   "source": [
    "# predict_proba[0] gives good_or_bad = 0, which is default\n",
    "reg_pd.model.predict_proba(loan_data_inputs_pd_temp)[: ][: , 0] # all lists, all rows, 1st col"
   ]
  },
  {
   "cell_type": "code",
   "execution_count": 121,
   "id": "c97bc7ab",
   "metadata": {},
   "outputs": [],
   "source": [
    "loan_data_inputs_pd['PD'] = reg_pd.model.predict_proba(loan_data_inputs_pd_temp)[: ][: , 0]"
   ]
  },
  {
   "cell_type": "code",
   "execution_count": 122,
   "id": "5d520129",
   "metadata": {},
   "outputs": [
    {
     "data": {
      "text/plain": [
       "Unnamed: 0\n",
       "305053     0.080716\n",
       "50247      0.007160\n",
       "1630001    0.082715\n",
       "927626     0.147369\n",
       "758488     0.134851\n",
       "Name: PD, dtype: float64"
      ]
     },
     "execution_count": 122,
     "metadata": {},
     "output_type": "execute_result"
    }
   ],
   "source": [
    "loan_data_inputs_pd['PD'].head()"
   ]
  },
  {
   "cell_type": "code",
   "execution_count": 123,
   "id": "ecb3b808",
   "metadata": {},
   "outputs": [
    {
     "data": {
      "text/plain": [
       "count    2.260668e+06\n",
       "mean     1.257134e-01\n",
       "std      9.907354e-02\n",
       "min      6.319857e-04\n",
       "25%      4.488378e-02\n",
       "50%      1.068106e-01\n",
       "75%      1.829413e-01\n",
       "max      6.031965e-01\n",
       "Name: PD, dtype: float64"
      ]
     },
     "execution_count": 123,
     "metadata": {},
     "output_type": "execute_result"
    }
   ],
   "source": [
    "loan_data_inputs_pd['PD'].describe()"
   ]
  },
  {
   "cell_type": "markdown",
   "id": "ff4cecf6",
   "metadata": {},
   "source": [
    "## Calculate EL"
   ]
  },
  {
   "cell_type": "code",
   "execution_count": 124,
   "id": "cd65f3c0",
   "metadata": {},
   "outputs": [],
   "source": [
    "loan_data_preprocessed_new = pd.concat([loan_data_preprocessed, loan_data_inputs_pd], axis = 1)"
   ]
  },
  {
   "cell_type": "code",
   "execution_count": 130,
   "id": "1f1017db",
   "metadata": {},
   "outputs": [],
   "source": [
    "# loan_data_preprocessed_new.to_csv(r'C:\\Users\\温泉小鱼汤\\Documents\\BaiduNetdiskWorkspace\\USC\\Credit Risk Modeling\\loan_data_preprocessed_new.csv')"
   ]
  },
  {
   "cell_type": "code",
   "execution_count": 3,
   "id": "0bda7b54",
   "metadata": {},
   "outputs": [
    {
     "name": "stderr",
     "output_type": "stream",
     "text": [
      "C:\\Users\\温泉小鱼汤\\AppData\\Local\\Temp\\ipykernel_22620\\2094378402.py:1: DtypeWarning: Columns (21,49,57,114,125,126,127,130,131,132,135,141,142,143,306,334,342,399,410,411,412,415,416,417,420,426,427,428) have mixed types. Specify dtype option on import or set low_memory=False.\n",
      "  loan_data_preprocessed_new = pd.read_csv(r'C:\\Users\\温泉小鱼汤\\Documents\\BaiduNetdiskWorkspace\\USC\\Credit Risk Modeling\\loan_data_preprocessed_new.csv')\n"
     ]
    }
   ],
   "source": [
    "# loan_data_preprocessed_new = pd.read_csv(r'C:\\Users\\温泉小鱼汤\\Documents\\BaiduNetdiskWorkspace\\USC\\Credit Risk Modeling\\loan_data_preprocessed_new.csv')"
   ]
  },
  {
   "cell_type": "code",
   "execution_count": 4,
   "id": "4984eb88",
   "metadata": {},
   "outputs": [],
   "source": [
    "loan_data_preprocessed_new['EL'] = loan_data_preprocessed_new['PD'] * \\\n",
    "                                   loan_data_preprocessed_new['LGD'] * \\\n",
    "                                   loan_data_preprocessed_new['EAD']"
   ]
  },
  {
   "cell_type": "code",
   "execution_count": 5,
   "id": "32986c09",
   "metadata": {},
   "outputs": [
    {
     "data": {
      "text/plain": [
       "count    2.260668e+06\n",
       "mean     1.250054e+03\n",
       "std      1.512319e+03\n",
       "min      0.000000e+00\n",
       "25%      2.696890e+02\n",
       "50%      6.888067e+02\n",
       "75%      1.644605e+03\n",
       "max      1.759134e+04\n",
       "Name: EL, dtype: float64"
      ]
     },
     "execution_count": 5,
     "metadata": {},
     "output_type": "execute_result"
    }
   ],
   "source": [
    "loan_data_preprocessed_new['EL'].describe()"
   ]
  },
  {
   "cell_type": "code",
   "execution_count": 11,
   "id": "22124baf",
   "metadata": {},
   "outputs": [
    {
     "data": {
      "text/html": [
       "<div>\n",
       "<style scoped>\n",
       "    .dataframe tbody tr th:only-of-type {\n",
       "        vertical-align: middle;\n",
       "    }\n",
       "\n",
       "    .dataframe tbody tr th {\n",
       "        vertical-align: top;\n",
       "    }\n",
       "\n",
       "    .dataframe thead th {\n",
       "        text-align: right;\n",
       "    }\n",
       "</style>\n",
       "<table border=\"1\" class=\"dataframe\">\n",
       "  <thead>\n",
       "    <tr style=\"text-align: right;\">\n",
       "      <th></th>\n",
       "      <th>funded_amnt</th>\n",
       "      <th>PD</th>\n",
       "      <th>LGD</th>\n",
       "      <th>EAD</th>\n",
       "      <th>EL</th>\n",
       "    </tr>\n",
       "  </thead>\n",
       "  <tbody>\n",
       "    <tr>\n",
       "      <th>1380436</th>\n",
       "      <td>6000</td>\n",
       "      <td>0.115776</td>\n",
       "      <td>0.889790</td>\n",
       "      <td>4091.403991</td>\n",
       "      <td>421.480298</td>\n",
       "    </tr>\n",
       "    <tr>\n",
       "      <th>1763202</th>\n",
       "      <td>12000</td>\n",
       "      <td>0.106263</td>\n",
       "      <td>0.921570</td>\n",
       "      <td>6527.870994</td>\n",
       "      <td>639.264662</td>\n",
       "    </tr>\n",
       "    <tr>\n",
       "      <th>1401120</th>\n",
       "      <td>35000</td>\n",
       "      <td>0.121933</td>\n",
       "      <td>1.000000</td>\n",
       "      <td>29150.599974</td>\n",
       "      <td>3554.406480</td>\n",
       "    </tr>\n",
       "    <tr>\n",
       "      <th>1026530</th>\n",
       "      <td>10000</td>\n",
       "      <td>0.142836</td>\n",
       "      <td>0.901533</td>\n",
       "      <td>6109.037987</td>\n",
       "      <td>786.667354</td>\n",
       "    </tr>\n",
       "    <tr>\n",
       "      <th>890657</th>\n",
       "      <td>10000</td>\n",
       "      <td>0.140981</td>\n",
       "      <td>0.882287</td>\n",
       "      <td>6907.836279</td>\n",
       "      <td>859.234165</td>\n",
       "    </tr>\n",
       "  </tbody>\n",
       "</table>\n",
       "</div>"
      ],
      "text/plain": [
       "         funded_amnt        PD       LGD           EAD           EL\n",
       "1380436         6000  0.115776  0.889790   4091.403991   421.480298\n",
       "1763202        12000  0.106263  0.921570   6527.870994   639.264662\n",
       "1401120        35000  0.121933  1.000000  29150.599974  3554.406480\n",
       "1026530        10000  0.142836  0.901533   6109.037987   786.667354\n",
       "890657         10000  0.140981  0.882287   6907.836279   859.234165"
      ]
     },
     "execution_count": 11,
     "metadata": {},
     "output_type": "execute_result"
    }
   ],
   "source": [
    "loan_data_preprocessed_new[['funded_amnt', 'PD', 'LGD', 'EAD', 'EL']].sample(5)"
   ]
  },
  {
   "cell_type": "code",
   "execution_count": 12,
   "id": "4900fa59",
   "metadata": {},
   "outputs": [
    {
     "data": {
      "text/plain": [
       "0.08310610745139617"
      ]
     },
     "execution_count": 12,
     "metadata": {},
     "output_type": "execute_result"
    }
   ],
   "source": [
    "loan_data_preprocessed_new['EL'].sum() / loan_data_preprocessed_new['funded_amnt'].sum()"
   ]
  },
  {
   "cell_type": "code",
   "execution_count": null,
   "id": "1f0661b1",
   "metadata": {},
   "outputs": [],
   "source": []
  }
 ],
 "metadata": {
  "kernelspec": {
   "display_name": "Python 3 (ipykernel)",
   "language": "python",
   "name": "python3"
  },
  "language_info": {
   "codemirror_mode": {
    "name": "ipython",
    "version": 3
   },
   "file_extension": ".py",
   "mimetype": "text/x-python",
   "name": "python",
   "nbconvert_exporter": "python",
   "pygments_lexer": "ipython3",
   "version": "3.9.12"
  },
  "toc": {
   "base_numbering": 1,
   "nav_menu": {},
   "number_sections": true,
   "sideBar": true,
   "skip_h1_title": false,
   "title_cell": "Table of Contents",
   "title_sidebar": "Contents",
   "toc_cell": false,
   "toc_position": {
    "height": "calc(100% - 180px)",
    "left": "10px",
    "top": "150px",
    "width": "445.8px"
   },
   "toc_section_display": true,
   "toc_window_display": false
  }
 },
 "nbformat": 4,
 "nbformat_minor": 5
}
